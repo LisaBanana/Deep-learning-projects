{
 "cells": [
  {
   "cell_type": "markdown",
   "metadata": {},
   "source": [
    "## Clustering and Reinforcement Learning\n",
    "\n",
    "Michel Kana\n",
    "\n",
    "\n",
    "<hr style=\"height:2pt\">"
   ]
  },
  {
   "cell_type": "code",
   "execution_count": 4,
   "metadata": {},
   "outputs": [
    {
     "name": "stderr",
     "output_type": "stream",
     "text": [
      "C:\\Users\\Kana\\AppData\\Local\\conda\\conda\\envs\\109b\\lib\\site-packages\\rpy2\\robjects\\packages.py:347: UserWarning: The symbol 'quartz' is not in this R namespace/package.\n",
      "  warnings.warn(\"The symbol '%s' is not in this R namespace/package.\" % name)\n",
      "C:\\Users\\Kana\\AppData\\Local\\conda\\conda\\envs\\109b\\lib\\site-packages\\rpy2\\robjects\\lib\\ggplot2.py:67: UserWarning: This was designed againt ggplot2 version 2.2.1 but you have 3.1.0\n",
      "  warnings.warn('This was designed againt ggplot2 version %s but you have %s' % (TARGET_VERSION, ggplot2.__version__))\n"
     ]
    }
   ],
   "source": [
    "import os\n",
    "# use and adjust the following line on Linux only\n",
    "os.environ['R_HOME'] = \"/usr/share/anaconda3/lib/R\"\n",
    "\n",
    "import pandas as pd\n",
    "from rpy2.robjects.packages import importr\n",
    "r_utils = importr('utils')\n",
    "import numpy as np\n",
    "%matplotlib inline \n",
    "import matplotlib.pyplot as plt\n",
    "r_ggplot2 = importr('ggplot2')\n",
    "import IPython\n",
    "import rpy2\n",
    "from rpy2.robjects.lib.grdevices import render_to_bytesio\n",
    "from rpy2.robjects import pandas2ri\n",
    "pandas2ri.activate()\n",
    "import rpy2.robjects.lib.ggplot2 as ggplot2\n",
    "r_stats = importr('stats')\n",
    "r_factoextra = importr('factoextra')\n",
    "r_base = importr('base')\n",
    "import scipy.cluster.hierarchy as hac\n",
    "from scipy.spatial.distance import pdist\n",
    "from sklearn.preprocessing import StandardScaler"
   ]
  },
  {
   "cell_type": "code",
   "execution_count": 1,
   "metadata": {},
   "outputs": [
    {
     "name": "stderr",
     "output_type": "stream",
     "text": [
      "Using TensorFlow backend.\n"
     ]
    }
   ],
   "source": [
    "#RL\n",
    "import gym\n",
    "from gym.envs.registration import register\n",
    "import seaborn as sns\n",
    "import matplotlib.pyplot as plt\n",
    "%matplotlib inline \n",
    "import sys\n",
    "import pylab\n",
    "import random\n",
    "import numpy as np\n",
    "from collections import deque\n",
    "from keras.layers import Dense\n",
    "from keras.optimizers import Adam\n",
    "from keras.models import Sequential\n",
    "#from tqdm import tqdm\n",
    "from copy import deepcopy\n",
    "import numpy.linalg as LA"
   ]
  },
  {
   "cell_type": "code",
   "execution_count": 2,
   "metadata": {},
   "outputs": [],
   "source": [
    "from sklearn.decomposition import PCA\n",
    "import seaborn as sns\n",
    "import math\n",
    "import pandas as pd"
   ]
  },
  {
   "cell_type": "code",
   "execution_count": 3,
   "metadata": {},
   "outputs": [],
   "source": [
    "%load_ext rpy2.ipython"
   ]
  },
  {
   "cell_type": "markdown",
   "metadata": {},
   "source": [
    "\n",
    "<hr style=\"height:2pt\">"
   ]
  },
  {
   "cell_type": "markdown",
   "metadata": {},
   "source": [
    "## *Handy* Algorithms\n",
    "\n",
    "    \n",
    "In this assignment, we will be working with data collected from a motion capture camera system. The system was used to record 14 different users performing 5 distinct hand postures with markers attached to a left-handed glove. A set of markers on the back of the glove was used to establish a local coordinate system for the hand, and 8 additional markers were attached to the thumb and fingers of the glove. A total of 24 features were collected based on observations from the camera system. Two other variables in the dataset were the ID of the user and the posture that the user made.\n",
    "\n",
    "These data have been preprocessed, including transformation to the local coordinate system of the record, removal of outliers, and removal of missing data.\n",
    "\n",
    "The dataset `postures_clean.csv` contains 38,943 rows and 26 columns. Each row corresponds to a single frame as captured by the camera system. The data are represented in the following manner:\n",
    "\n",
    "`Class (type: Integer). The hand posture of the given observation, with`\n",
    "\n",
    "`1 = Fist (with thumb out)`\n",
    "\n",
    "`2 = Stop (hand flat)`\n",
    "\n",
    "`3 = Point1 (point with index finger)`\n",
    "\n",
    "`4 = Point2 (point with index and middle fingers)`\n",
    "\n",
    "`5 = Grab (fingers curled as if to grab)`\n",
    "\n",
    "`User (type: Integer). The ID of the user that contributed the record.`\n",
    "\n",
    "`X0, Y0, Z0, X1, Y1, Z1,..., X7, Y7, Z7 (type: Real). The x-coordinate, y-coordinate, and z-coordinate of the eight unlabeled marker positions.`\n"
   ]
  },
  {
   "cell_type": "markdown",
   "metadata": {},
   "source": [
    "Start by reading the dataset into a pandas data frame."
   ]
  },
  {
   "cell_type": "code",
   "execution_count": 5,
   "metadata": {},
   "outputs": [],
   "source": [
    "df_postures = pd.read_csv('data/postures_clean.csv')"
   ]
  },
  {
   "cell_type": "markdown",
   "metadata": {},
   "source": [
    "### Problem 1: Clustering with k-means\n",
    "\n",
    "(a) After appropriate pre-processing run the k-means clustering algorithm, using the function `r_stats.kmeans`, with the number of clusters corresponding to the number of users, `n_start` of 46, and 109 as the random seed. Add the result as a new column called `Cluster14` to the data frame."
   ]
  },
  {
   "cell_type": "code",
   "execution_count": 7,
   "metadata": {},
   "outputs": [
    {
     "data": {
      "text/html": [
       "<div>\n",
       "<style scoped>\n",
       "    .dataframe tbody tr th:only-of-type {\n",
       "        vertical-align: middle;\n",
       "    }\n",
       "\n",
       "    .dataframe tbody tr th {\n",
       "        vertical-align: top;\n",
       "    }\n",
       "\n",
       "    .dataframe thead th {\n",
       "        text-align: right;\n",
       "    }\n",
       "</style>\n",
       "<table border=\"1\" class=\"dataframe\">\n",
       "  <thead>\n",
       "    <tr style=\"text-align: right;\">\n",
       "      <th></th>\n",
       "      <th>Class</th>\n",
       "      <th>User</th>\n",
       "      <th>X0</th>\n",
       "      <th>Y0</th>\n",
       "      <th>Z0</th>\n",
       "      <th>X1</th>\n",
       "      <th>Y1</th>\n",
       "      <th>Z1</th>\n",
       "      <th>X2</th>\n",
       "      <th>Y2</th>\n",
       "      <th>...</th>\n",
       "      <th>Z4</th>\n",
       "      <th>X5</th>\n",
       "      <th>Y5</th>\n",
       "      <th>Z5</th>\n",
       "      <th>X6</th>\n",
       "      <th>Y6</th>\n",
       "      <th>Z6</th>\n",
       "      <th>X7</th>\n",
       "      <th>Y7</th>\n",
       "      <th>Z7</th>\n",
       "    </tr>\n",
       "  </thead>\n",
       "  <tbody>\n",
       "    <tr>\n",
       "      <th>0</th>\n",
       "      <td>1</td>\n",
       "      <td>0</td>\n",
       "      <td>72.692270</td>\n",
       "      <td>50.023771</td>\n",
       "      <td>-72.963253</td>\n",
       "      <td>-11.593076</td>\n",
       "      <td>81.234142</td>\n",
       "      <td>-28.450210</td>\n",
       "      <td>51.729995</td>\n",
       "      <td>82.844469</td>\n",
       "      <td>...</td>\n",
       "      <td>-47.909511</td>\n",
       "      <td>10.028439</td>\n",
       "      <td>88.967979</td>\n",
       "      <td>-32.045120</td>\n",
       "      <td>7.732511</td>\n",
       "      <td>25.135415</td>\n",
       "      <td>10.723395</td>\n",
       "      <td>55.943868</td>\n",
       "      <td>19.513363</td>\n",
       "      <td>-70.380124</td>\n",
       "    </tr>\n",
       "    <tr>\n",
       "      <th>1</th>\n",
       "      <td>1</td>\n",
       "      <td>0</td>\n",
       "      <td>85.648015</td>\n",
       "      <td>73.561022</td>\n",
       "      <td>-71.838316</td>\n",
       "      <td>31.595034</td>\n",
       "      <td>90.217896</td>\n",
       "      <td>-47.246688</td>\n",
       "      <td>52.230858</td>\n",
       "      <td>82.361548</td>\n",
       "      <td>...</td>\n",
       "      <td>-25.243914</td>\n",
       "      <td>10.277516</td>\n",
       "      <td>88.607958</td>\n",
       "      <td>-32.037539</td>\n",
       "      <td>56.308829</td>\n",
       "      <td>18.774768</td>\n",
       "      <td>-70.996523</td>\n",
       "      <td>6.913199</td>\n",
       "      <td>24.967750</td>\n",
       "      <td>9.697553</td>\n",
       "    </tr>\n",
       "    <tr>\n",
       "      <th>2</th>\n",
       "      <td>1</td>\n",
       "      <td>0</td>\n",
       "      <td>-10.346977</td>\n",
       "      <td>81.751331</td>\n",
       "      <td>-25.587870</td>\n",
       "      <td>33.414886</td>\n",
       "      <td>91.985986</td>\n",
       "      <td>-41.364447</td>\n",
       "      <td>5.625100</td>\n",
       "      <td>24.523349</td>\n",
       "      <td>...</td>\n",
       "      <td>-67.660208</td>\n",
       "      <td>87.019172</td>\n",
       "      <td>75.505188</td>\n",
       "      <td>-67.462052</td>\n",
       "      <td>56.807276</td>\n",
       "      <td>20.950953</td>\n",
       "      <td>-68.375831</td>\n",
       "      <td>11.602112</td>\n",
       "      <td>89.400536</td>\n",
       "      <td>-29.062279</td>\n",
       "    </tr>\n",
       "    <tr>\n",
       "      <th>3</th>\n",
       "      <td>2</td>\n",
       "      <td>0</td>\n",
       "      <td>63.554969</td>\n",
       "      <td>98.490988</td>\n",
       "      <td>11.165920</td>\n",
       "      <td>49.159831</td>\n",
       "      <td>154.330730</td>\n",
       "      <td>32.004168</td>\n",
       "      <td>92.793124</td>\n",
       "      <td>137.143202</td>\n",
       "      <td>...</td>\n",
       "      <td>-74.307346</td>\n",
       "      <td>58.421362</td>\n",
       "      <td>27.499634</td>\n",
       "      <td>-71.713081</td>\n",
       "      <td>12.660462</td>\n",
       "      <td>95.077144</td>\n",
       "      <td>29.664434</td>\n",
       "      <td>84.110115</td>\n",
       "      <td>151.545456</td>\n",
       "      <td>16.891147</td>\n",
       "    </tr>\n",
       "    <tr>\n",
       "      <th>4</th>\n",
       "      <td>2</td>\n",
       "      <td>0</td>\n",
       "      <td>80.873812</td>\n",
       "      <td>93.722537</td>\n",
       "      <td>-4.988816</td>\n",
       "      <td>63.572103</td>\n",
       "      <td>98.476638</td>\n",
       "      <td>11.242908</td>\n",
       "      <td>49.142700</td>\n",
       "      <td>154.347050</td>\n",
       "      <td>...</td>\n",
       "      <td>-71.629823</td>\n",
       "      <td>20.573646</td>\n",
       "      <td>132.913455</td>\n",
       "      <td>35.349247</td>\n",
       "      <td>92.942044</td>\n",
       "      <td>137.182817</td>\n",
       "      <td>1.297511</td>\n",
       "      <td>35.480104</td>\n",
       "      <td>99.739019</td>\n",
       "      <td>22.802243</td>\n",
       "    </tr>\n",
       "  </tbody>\n",
       "</table>\n",
       "<p>5 rows × 26 columns</p>\n",
       "</div>"
      ],
      "text/plain": [
       "   Class  User         X0         Y0         Z0         X1          Y1  \\\n",
       "0      1     0  72.692270  50.023771 -72.963253 -11.593076   81.234142   \n",
       "1      1     0  85.648015  73.561022 -71.838316  31.595034   90.217896   \n",
       "2      1     0 -10.346977  81.751331 -25.587870  33.414886   91.985986   \n",
       "3      2     0  63.554969  98.490988  11.165920  49.159831  154.330730   \n",
       "4      2     0  80.873812  93.722537  -4.988816  63.572103   98.476638   \n",
       "\n",
       "          Z1         X2          Y2    ...             Z4         X5  \\\n",
       "0 -28.450210  51.729995   82.844469    ...     -47.909511  10.028439   \n",
       "1 -47.246688  52.230858   82.361548    ...     -25.243914  10.277516   \n",
       "2 -41.364447   5.625100   24.523349    ...     -67.660208  87.019172   \n",
       "3  32.004168  92.793124  137.143202    ...     -74.307346  58.421362   \n",
       "4  11.242908  49.142700  154.347050    ...     -71.629823  20.573646   \n",
       "\n",
       "           Y5         Z5         X6          Y6         Z6         X7  \\\n",
       "0   88.967979 -32.045120   7.732511   25.135415  10.723395  55.943868   \n",
       "1   88.607958 -32.037539  56.308829   18.774768 -70.996523   6.913199   \n",
       "2   75.505188 -67.462052  56.807276   20.950953 -68.375831  11.602112   \n",
       "3   27.499634 -71.713081  12.660462   95.077144  29.664434  84.110115   \n",
       "4  132.913455  35.349247  92.942044  137.182817   1.297511  35.480104   \n",
       "\n",
       "           Y7         Z7  \n",
       "0   19.513363 -70.380124  \n",
       "1   24.967750   9.697553  \n",
       "2   89.400536 -29.062279  \n",
       "3  151.545456  16.891147  \n",
       "4   99.739019  22.802243  \n",
       "\n",
       "[5 rows x 26 columns]"
      ]
     },
     "execution_count": 7,
     "metadata": {},
     "output_type": "execute_result"
    }
   ],
   "source": [
    "df_postures.head()"
   ]
  },
  {
   "cell_type": "code",
   "execution_count": 6,
   "metadata": {},
   "outputs": [],
   "source": [
    "pd.set_option('display.max_columns', 30)"
   ]
  },
  {
   "cell_type": "markdown",
   "metadata": {},
   "source": [
    "Looking at the summary below, we see that the mean values X0, X1, ... X7 are approximately drawn from the same distribution. No visible outlier is present. A similar observation is made for the Yi and Zi. This suggests that the coordinates represent physical places in the real word. We can also observe that the range of values (min and max) are different from X than from Y or Z. If we were to plot the data in a 3D space, it would appear squeezed in space. \n",
    "\n",
    "We can assume that the experimental setup used in this problem, was similar to the one published in [Gardner's paper](https://pdfs.semanticscholar.org/8512/1a32b411878449e6dc87ef2a7d7303861d50.pdf). The [full dataset](https://archive.ics.uci.edu/ml/datasets/MoCap+Hand+Postures) is availble. All markers were transformed to the local coordinate system of the record containing them. Four of the markers form a rigid pattern on  the  back  of  the  hand  to  serve  as  identification  of  the  hand’s  position  and orientation  and  to  create  a  local  coordinate  system  for  the  remaining  8 markers.\n",
    "\n",
    "These findings suggest that it might not be a good idea to scale this kind of data. Scaling would project e.g. X0 values for all users on the same coordinate system, loosing the calibrated locality. **Therefrore we will proceed without scaling the coordinates.**"
   ]
  },
  {
   "cell_type": "code",
   "execution_count": 9,
   "metadata": {},
   "outputs": [
    {
     "data": {
      "text/html": [
       "<div>\n",
       "<style scoped>\n",
       "    .dataframe tbody tr th:only-of-type {\n",
       "        vertical-align: middle;\n",
       "    }\n",
       "\n",
       "    .dataframe tbody tr th {\n",
       "        vertical-align: top;\n",
       "    }\n",
       "\n",
       "    .dataframe thead th {\n",
       "        text-align: right;\n",
       "    }\n",
       "</style>\n",
       "<table border=\"1\" class=\"dataframe\">\n",
       "  <thead>\n",
       "    <tr style=\"text-align: right;\">\n",
       "      <th></th>\n",
       "      <th>Class</th>\n",
       "      <th>User</th>\n",
       "      <th>X0</th>\n",
       "      <th>Y0</th>\n",
       "      <th>Z0</th>\n",
       "      <th>X1</th>\n",
       "      <th>Y1</th>\n",
       "      <th>Z1</th>\n",
       "      <th>X2</th>\n",
       "      <th>Y2</th>\n",
       "      <th>Z2</th>\n",
       "      <th>X3</th>\n",
       "      <th>Y3</th>\n",
       "      <th>Z3</th>\n",
       "      <th>X4</th>\n",
       "      <th>Y4</th>\n",
       "      <th>Z4</th>\n",
       "      <th>X5</th>\n",
       "      <th>Y5</th>\n",
       "      <th>Z5</th>\n",
       "      <th>X6</th>\n",
       "      <th>Y6</th>\n",
       "      <th>Z6</th>\n",
       "      <th>X7</th>\n",
       "      <th>Y7</th>\n",
       "      <th>Z7</th>\n",
       "    </tr>\n",
       "  </thead>\n",
       "  <tbody>\n",
       "    <tr>\n",
       "      <th>count</th>\n",
       "      <td>38943.000000</td>\n",
       "      <td>38943.000000</td>\n",
       "      <td>38943.000000</td>\n",
       "      <td>38943.000000</td>\n",
       "      <td>38943.000000</td>\n",
       "      <td>38943.000000</td>\n",
       "      <td>38943.000000</td>\n",
       "      <td>38943.000000</td>\n",
       "      <td>38943.000000</td>\n",
       "      <td>38943.000000</td>\n",
       "      <td>38943.000000</td>\n",
       "      <td>38943.000000</td>\n",
       "      <td>38943.000000</td>\n",
       "      <td>38943.000000</td>\n",
       "      <td>38943.000000</td>\n",
       "      <td>38943.000000</td>\n",
       "      <td>38943.000000</td>\n",
       "      <td>38943.000000</td>\n",
       "      <td>38943.000000</td>\n",
       "      <td>38943.000000</td>\n",
       "      <td>38943.000000</td>\n",
       "      <td>38943.000000</td>\n",
       "      <td>38943.000000</td>\n",
       "      <td>38943.000000</td>\n",
       "      <td>38943.000000</td>\n",
       "      <td>38943.000000</td>\n",
       "    </tr>\n",
       "    <tr>\n",
       "      <th>mean</th>\n",
       "      <td>3.533986</td>\n",
       "      <td>8.149501</td>\n",
       "      <td>51.392252</td>\n",
       "      <td>93.748418</td>\n",
       "      <td>-18.956761</td>\n",
       "      <td>48.644293</td>\n",
       "      <td>97.228337</td>\n",
       "      <td>-16.921813</td>\n",
       "      <td>46.432265</td>\n",
       "      <td>97.351512</td>\n",
       "      <td>-16.904324</td>\n",
       "      <td>45.711065</td>\n",
       "      <td>96.185464</td>\n",
       "      <td>-17.168105</td>\n",
       "      <td>45.228325</td>\n",
       "      <td>95.137392</td>\n",
       "      <td>-18.446645</td>\n",
       "      <td>45.392642</td>\n",
       "      <td>93.295433</td>\n",
       "      <td>-19.125065</td>\n",
       "      <td>45.201114</td>\n",
       "      <td>90.839851</td>\n",
       "      <td>-19.920157</td>\n",
       "      <td>44.463433</td>\n",
       "      <td>88.463343</td>\n",
       "      <td>-20.368719</td>\n",
       "    </tr>\n",
       "    <tr>\n",
       "      <th>std</th>\n",
       "      <td>1.332452</td>\n",
       "      <td>4.587195</td>\n",
       "      <td>34.070402</td>\n",
       "      <td>40.145995</td>\n",
       "      <td>34.976568</td>\n",
       "      <td>34.922596</td>\n",
       "      <td>38.076977</td>\n",
       "      <td>34.671422</td>\n",
       "      <td>36.395332</td>\n",
       "      <td>37.470755</td>\n",
       "      <td>34.913639</td>\n",
       "      <td>36.920362</td>\n",
       "      <td>38.079625</td>\n",
       "      <td>35.175585</td>\n",
       "      <td>37.062802</td>\n",
       "      <td>39.067869</td>\n",
       "      <td>35.597032</td>\n",
       "      <td>37.104094</td>\n",
       "      <td>39.746619</td>\n",
       "      <td>35.602273</td>\n",
       "      <td>37.556616</td>\n",
       "      <td>40.227409</td>\n",
       "      <td>34.827888</td>\n",
       "      <td>38.378395</td>\n",
       "      <td>40.503378</td>\n",
       "      <td>33.943957</td>\n",
       "    </tr>\n",
       "    <tr>\n",
       "      <th>min</th>\n",
       "      <td>1.000000</td>\n",
       "      <td>0.000000</td>\n",
       "      <td>-108.552738</td>\n",
       "      <td>-67.157904</td>\n",
       "      <td>-120.284665</td>\n",
       "      <td>-111.685241</td>\n",
       "      <td>-65.758453</td>\n",
       "      <td>-120.290858</td>\n",
       "      <td>-99.917453</td>\n",
       "      <td>-64.830342</td>\n",
       "      <td>-121.106421</td>\n",
       "      <td>-111.761053</td>\n",
       "      <td>-65.370078</td>\n",
       "      <td>-118.154497</td>\n",
       "      <td>-99.107635</td>\n",
       "      <td>-64.843724</td>\n",
       "      <td>-157.199089</td>\n",
       "      <td>-99.014815</td>\n",
       "      <td>-64.282645</td>\n",
       "      <td>-118.328399</td>\n",
       "      <td>-100.084275</td>\n",
       "      <td>-67.283707</td>\n",
       "      <td>-153.449813</td>\n",
       "      <td>-108.605639</td>\n",
       "      <td>-64.972157</td>\n",
       "      <td>-113.733105</td>\n",
       "    </tr>\n",
       "    <tr>\n",
       "      <th>25%</th>\n",
       "      <td>2.000000</td>\n",
       "      <td>5.000000</td>\n",
       "      <td>28.169252</td>\n",
       "      <td>74.946345</td>\n",
       "      <td>-43.598807</td>\n",
       "      <td>22.574182</td>\n",
       "      <td>79.747406</td>\n",
       "      <td>-41.210343</td>\n",
       "      <td>17.617698</td>\n",
       "      <td>81.302159</td>\n",
       "      <td>-41.938023</td>\n",
       "      <td>16.154549</td>\n",
       "      <td>80.399014</td>\n",
       "      <td>-43.171364</td>\n",
       "      <td>15.711050</td>\n",
       "      <td>78.918900</td>\n",
       "      <td>-45.169035</td>\n",
       "      <td>15.849890</td>\n",
       "      <td>76.376404</td>\n",
       "      <td>-46.363837</td>\n",
       "      <td>15.132050</td>\n",
       "      <td>68.915784</td>\n",
       "      <td>-46.547792</td>\n",
       "      <td>13.081363</td>\n",
       "      <td>63.541846</td>\n",
       "      <td>-45.676522</td>\n",
       "    </tr>\n",
       "    <tr>\n",
       "      <th>50%</th>\n",
       "      <td>4.000000</td>\n",
       "      <td>9.000000</td>\n",
       "      <td>54.596564</td>\n",
       "      <td>93.966079</td>\n",
       "      <td>-15.041397</td>\n",
       "      <td>52.960933</td>\n",
       "      <td>96.690641</td>\n",
       "      <td>-12.046916</td>\n",
       "      <td>51.184849</td>\n",
       "      <td>97.222693</td>\n",
       "      <td>-12.133026</td>\n",
       "      <td>50.458306</td>\n",
       "      <td>97.243531</td>\n",
       "      <td>-12.799918</td>\n",
       "      <td>50.099394</td>\n",
       "      <td>97.515842</td>\n",
       "      <td>-14.823751</td>\n",
       "      <td>50.160084</td>\n",
       "      <td>97.040377</td>\n",
       "      <td>-16.010237</td>\n",
       "      <td>49.968499</td>\n",
       "      <td>95.562441</td>\n",
       "      <td>-17.101080</td>\n",
       "      <td>49.601058</td>\n",
       "      <td>93.796334</td>\n",
       "      <td>-19.428819</td>\n",
       "    </tr>\n",
       "    <tr>\n",
       "      <th>75%</th>\n",
       "      <td>5.000000</td>\n",
       "      <td>12.000000</td>\n",
       "      <td>77.390834</td>\n",
       "      <td>130.932659</td>\n",
       "      <td>7.998678</td>\n",
       "      <td>75.560564</td>\n",
       "      <td>131.729311</td>\n",
       "      <td>9.065824</td>\n",
       "      <td>74.435194</td>\n",
       "      <td>130.794462</td>\n",
       "      <td>9.781498</td>\n",
       "      <td>74.229806</td>\n",
       "      <td>129.222213</td>\n",
       "      <td>9.926760</td>\n",
       "      <td>73.093324</td>\n",
       "      <td>128.292543</td>\n",
       "      <td>9.382799</td>\n",
       "      <td>73.761617</td>\n",
       "      <td>126.844621</td>\n",
       "      <td>9.031498</td>\n",
       "      <td>74.558859</td>\n",
       "      <td>123.069653</td>\n",
       "      <td>7.767866</td>\n",
       "      <td>75.721811</td>\n",
       "      <td>119.188963</td>\n",
       "      <td>6.591351</td>\n",
       "    </tr>\n",
       "    <tr>\n",
       "      <th>max</th>\n",
       "      <td>5.000000</td>\n",
       "      <td>14.000000</td>\n",
       "      <td>160.850926</td>\n",
       "      <td>169.175464</td>\n",
       "      <td>113.345119</td>\n",
       "      <td>158.783454</td>\n",
       "      <td>170.209350</td>\n",
       "      <td>104.697852</td>\n",
       "      <td>163.547310</td>\n",
       "      <td>168.186466</td>\n",
       "      <td>104.590879</td>\n",
       "      <td>146.986668</td>\n",
       "      <td>168.292018</td>\n",
       "      <td>114.624261</td>\n",
       "      <td>172.275978</td>\n",
       "      <td>168.258643</td>\n",
       "      <td>119.237203</td>\n",
       "      <td>180.563322</td>\n",
       "      <td>167.926171</td>\n",
       "      <td>110.898899</td>\n",
       "      <td>176.409004</td>\n",
       "      <td>168.598384</td>\n",
       "      <td>117.914907</td>\n",
       "      <td>189.221529</td>\n",
       "      <td>169.127359</td>\n",
       "      <td>117.815967</td>\n",
       "    </tr>\n",
       "  </tbody>\n",
       "</table>\n",
       "</div>"
      ],
      "text/plain": [
       "              Class          User            X0            Y0            Z0  \\\n",
       "count  38943.000000  38943.000000  38943.000000  38943.000000  38943.000000   \n",
       "mean       3.533986      8.149501     51.392252     93.748418    -18.956761   \n",
       "std        1.332452      4.587195     34.070402     40.145995     34.976568   \n",
       "min        1.000000      0.000000   -108.552738    -67.157904   -120.284665   \n",
       "25%        2.000000      5.000000     28.169252     74.946345    -43.598807   \n",
       "50%        4.000000      9.000000     54.596564     93.966079    -15.041397   \n",
       "75%        5.000000     12.000000     77.390834    130.932659      7.998678   \n",
       "max        5.000000     14.000000    160.850926    169.175464    113.345119   \n",
       "\n",
       "                 X1            Y1            Z1            X2            Y2  \\\n",
       "count  38943.000000  38943.000000  38943.000000  38943.000000  38943.000000   \n",
       "mean      48.644293     97.228337    -16.921813     46.432265     97.351512   \n",
       "std       34.922596     38.076977     34.671422     36.395332     37.470755   \n",
       "min     -111.685241    -65.758453   -120.290858    -99.917453    -64.830342   \n",
       "25%       22.574182     79.747406    -41.210343     17.617698     81.302159   \n",
       "50%       52.960933     96.690641    -12.046916     51.184849     97.222693   \n",
       "75%       75.560564    131.729311      9.065824     74.435194    130.794462   \n",
       "max      158.783454    170.209350    104.697852    163.547310    168.186466   \n",
       "\n",
       "                 Z2            X3            Y3            Z3            X4  \\\n",
       "count  38943.000000  38943.000000  38943.000000  38943.000000  38943.000000   \n",
       "mean     -16.904324     45.711065     96.185464    -17.168105     45.228325   \n",
       "std       34.913639     36.920362     38.079625     35.175585     37.062802   \n",
       "min     -121.106421   -111.761053    -65.370078   -118.154497    -99.107635   \n",
       "25%      -41.938023     16.154549     80.399014    -43.171364     15.711050   \n",
       "50%      -12.133026     50.458306     97.243531    -12.799918     50.099394   \n",
       "75%        9.781498     74.229806    129.222213      9.926760     73.093324   \n",
       "max      104.590879    146.986668    168.292018    114.624261    172.275978   \n",
       "\n",
       "                 Y4            Z4            X5            Y5            Z5  \\\n",
       "count  38943.000000  38943.000000  38943.000000  38943.000000  38943.000000   \n",
       "mean      95.137392    -18.446645     45.392642     93.295433    -19.125065   \n",
       "std       39.067869     35.597032     37.104094     39.746619     35.602273   \n",
       "min      -64.843724   -157.199089    -99.014815    -64.282645   -118.328399   \n",
       "25%       78.918900    -45.169035     15.849890     76.376404    -46.363837   \n",
       "50%       97.515842    -14.823751     50.160084     97.040377    -16.010237   \n",
       "75%      128.292543      9.382799     73.761617    126.844621      9.031498   \n",
       "max      168.258643    119.237203    180.563322    167.926171    110.898899   \n",
       "\n",
       "                 X6            Y6            Z6            X7            Y7  \\\n",
       "count  38943.000000  38943.000000  38943.000000  38943.000000  38943.000000   \n",
       "mean      45.201114     90.839851    -19.920157     44.463433     88.463343   \n",
       "std       37.556616     40.227409     34.827888     38.378395     40.503378   \n",
       "min     -100.084275    -67.283707   -153.449813   -108.605639    -64.972157   \n",
       "25%       15.132050     68.915784    -46.547792     13.081363     63.541846   \n",
       "50%       49.968499     95.562441    -17.101080     49.601058     93.796334   \n",
       "75%       74.558859    123.069653      7.767866     75.721811    119.188963   \n",
       "max      176.409004    168.598384    117.914907    189.221529    169.127359   \n",
       "\n",
       "                 Z7  \n",
       "count  38943.000000  \n",
       "mean     -20.368719  \n",
       "std       33.943957  \n",
       "min     -113.733105  \n",
       "25%      -45.676522  \n",
       "50%      -19.428819  \n",
       "75%        6.591351  \n",
       "max      117.815967  "
      ]
     },
     "execution_count": 9,
     "metadata": {},
     "output_type": "execute_result"
    }
   ],
   "source": [
    "df_postures.describe()"
   ]
  },
  {
   "cell_type": "code",
   "execution_count": 7,
   "metadata": {},
   "outputs": [
    {
     "name": "stderr",
     "output_type": "stream",
     "text": [
      "C:\\Users\\Kana\\AppData\\Local\\conda\\conda\\envs\\109b\\lib\\site-packages\\scipy\\stats\\stats.py:1713: FutureWarning: Using a non-tuple sequence for multidimensional indexing is deprecated; use `arr[tuple(seq)]` instead of `arr[seq]`. In the future this will be interpreted as an array index, `arr[np.array(seq)]`, which will result either in an error or a different result.\n",
      "  return np.add.reduce(sorted[indexer] * weights, axis=axis) / sumval\n"
     ]
    },
    {
     "data": {
      "image/png": "[encoded data removed]",
      "text/plain": [
       "<Figure size 1440x360 with 3 Axes>"
      ]
     },
     "metadata": {
      "needs_background": "light"
     },
     "output_type": "display_data"
    }
   ],
   "source": [
    "fig, ax = plt.subplots(1,3,figsize=(20,5))\n",
    "for i, a in enumerate(['X', 'Y', 'Z']):\n",
    "    for j in range(8):\n",
    "        sns.distplot(df_postures[a+str(j)], ax=ax[i], label=a+str(j))\n",
    "    ax[i].legend()\n",
    "    ax[i].set_title(a)\n",
    "    ax[i].set_xlabel(a)\n",
    "    ax[i].set_ylabel('proportion')\n"
   ]
  },
  {
   "cell_type": "markdown",
   "metadata": {},
   "source": [
    "Below we plot the number of frames recorded for each user and for each class of posture. We can observe that not all users perform all postures. Furthermore the number of frames recorded for a given posture varies among users. We also notice that while user ids are from 0 to 14, the user id 3 is missing, leaving us with 14 users.\n",
    "\n",
    "We conclude that, due to self-occlusion, many original records had missing markers and were removed from the dataset. Since the number of visible markers in a record is always 8, we conlude that some users'postures were completly removed. This would explain e.g. that user 4 and 7 have just a few records and did perform only some of the postures. This also explains why some postures have a very low total number of frames recorded. For example class 1 (fist with thumb out) was recorded only for 3 users, with a total of 52 frames. When the remaining users form a fist, some of the markers were occluded."
   ]
  },
  {
   "cell_type": "code",
   "execution_count": 17,
   "metadata": {
    "scrolled": true
   },
   "outputs": [
    {
     "data": {
      "image/png": "[encoded data removed]",
      "text/plain": [
       "<Figure size 1440x360 with 1 Axes>"
      ]
     },
     "metadata": {
      "needs_background": "light"
     },
     "output_type": "display_data"
    }
   ],
   "source": [
    "fig, ax = plt.subplots(1,1,figsize=(20,5))\n",
    "df_postures_per_user = df_postures.groupby(['User', 'Class']).agg('count')['X0'].reset_index()\n",
    "sns.barplot(data=df_postures_per_user, x='User', y='X0', hue='Class', ax=ax)\n",
    "ax.set_title('# frames per user')\n",
    "ax.set_ylabel('count');"
   ]
  },
  {
   "cell_type": "markdown",
   "metadata": {},
   "source": [
    "We visualize the first two principal components below. We can see that two components do the explain the variance in the data. We are not able to identify clusters. "
   ]
  },
  {
   "cell_type": "code",
   "execution_count": 12,
   "metadata": {},
   "outputs": [],
   "source": [
    "pca = PCA()\n",
    "pca_df_postures = pca.fit_transform(df_postures)"
   ]
  },
  {
   "cell_type": "code",
   "execution_count": 13,
   "metadata": {},
   "outputs": [
    {
     "data": {
      "image/png": "[encoded data removed]",
      "text/plain": [
       "<Figure size 432x288 with 1 Axes>"
      ]
     },
     "metadata": {
      "needs_background": "light"
     },
     "output_type": "display_data"
    }
   ],
   "source": [
    "pca1_scores = pca_df_postures[:,0]\n",
    "pca2_scores = pca_df_postures[:,1]\n",
    "plt.scatter(pca1_scores,pca2_scores)\n",
    "plt.title('PCA')\n",
    "plt.xlabel('PCA 1')\n",
    "plt.ylabel('PCA 2');"
   ]
  },
  {
   "cell_type": "markdown",
   "metadata": {},
   "source": [
    "Below we analyse the data using clustering. Hereby we are grouping together a set of frames in a way that franes in the same cluster are more similar to each other than to objects in other clusters. Similarity is an amount that reflects the strength of relationship between two frames. K-means clustering is the simplest and the most commonly used clustering method for splitting a dataset into a set of k (predefined) groups. \n",
    "\n",
    "There is no well defined classification or regression for our problem. We are facing an unsupervized learning situation, where we basically explore the postures recorded from a set of users and we try to cluster the data so that it makes sense. We can imagine being able to separate 14 clusters, showing that each user has a unique postures set. We can also be able to group postures into 5 clusters, showing that all users perform the same posture in a similar way. We might discover outlier clusters indentifying back to users who perform a specific task significantly different than the rest. We might be able to link those clusters to some disease condition or to highlight some rare physical properties.\n",
    "\n",
    "The classical methods for distance measures are Euclidean and Manhattan distances. Euclidean distance perfectly makes sense for the coordinates in our dataset. However its is not very much appropriate to let the Euclidean distance between user with 0 and user with id 14 impact clustering. Similarly, the posture class 1 differs from posture class 5 in the same way as it differs from posture class 2. Therefore we might have to scale the User and Class features, if we include them in the clustering task.\n",
    "\n"
   ]
  },
  {
   "cell_type": "markdown",
   "metadata": {},
   "source": [
    "Let's initialize the envronment for using the kmeans function from R."
   ]
  },
  {
   "cell_type": "code",
   "execution_count": 8,
   "metadata": {},
   "outputs": [],
   "source": [
    "r_base = importr('base')\n",
    "r_base.set_seed(109)\n",
    "r_stats = importr('stats')"
   ]
  },
  {
   "cell_type": "markdown",
   "metadata": {},
   "source": [
    "The function below performs K-Means clustering on an input dataframe `df`. `cols_features` is the list of columns from the dataframe which we want to consider. If empty, all columns are considered. `cols_to_scale` is the the subset of features which require scaling for proper similarity measurement. `nb_clusters` is the predefined number of clusters we attempt to build. `nb_config` is the number of times we will repeat the process. `cluster_col_name` is the column name we will use when storing the cluster labels in the original dataframe. "
   ]
  },
  {
   "cell_type": "code",
   "execution_count": 9,
   "metadata": {},
   "outputs": [],
   "source": [
    "def get_kmeans(df, cols_features, cols_to_scale, nb_clusters=14, nb_configs=46, cluster_col_name='Cluster14', verbose=True):\n",
    "    df_copy = df.copy()\n",
    "    # scale cols if given\n",
    "    if len(cols_to_scale) > 0:\n",
    "        df_copy[cols_to_scale] = StandardScaler().fit_transform(df_copy[cols_to_scale].astype(float))\n",
    "    # find kmeans clusters using a specific list of features if given\n",
    "    if len(cols_features) > 0:\n",
    "        r_km = r_stats.kmeans(df_copy[cols_features], centers=nb_clusters, nstart=nb_configs)\n",
    "    else:\n",
    "        r_km = r_stats.kmeans(df_copy, centers=nb_clusters, nstart=nb_configs)\n",
    "    # add cluster name to dataframe\n",
    "    df_copy[cluster_col_name] = r_km.rx2(\"cluster\")\n",
    "    if verbose:\n",
    "        print('We obtain {} clusters, whose sizes (# of frames recorded) are given below.'.format(len(r_km.rx2(\"size\"))))\n",
    "        print(r_km.rx2(\"size\"))\n",
    "        #print('The cluster centers are given below. Each center is uniquely identified by a set of features values.')\n",
    "        #print(r_km.rx2(\"centers\"))\n",
    "        print('The within-cluster sum of squares is given below for each of the clusters.')\n",
    "        print(r_km.rx2(\"withinss\"))    \n",
    "    # rollback scaling before returning the result\n",
    "    if len(cols_to_scale) > 0:\n",
    "        df_copy[cols_to_scale] = df[cols_to_scale]        \n",
    "    # adjust user id\n",
    "    df_copy = df_copy.replace({'User':{2:3}})\n",
    "    df_copy = df_copy.replace({'User':{1:2}})\n",
    "    df_copy = df_copy.replace({'User':{0:1}})\n",
    "    return df_copy"
   ]
  },
  {
   "cell_type": "markdown",
   "metadata": {},
   "source": [
    "We first cluster the data using the coordinates features only."
   ]
  },
  {
   "cell_type": "code",
   "execution_count": 10,
   "metadata": {},
   "outputs": [],
   "source": [
    "cols_labels = ['Class', 'User']\n",
    "cols_features = df_postures.columns.difference(cols_labels)"
   ]
  },
  {
   "cell_type": "code",
   "execution_count": 11,
   "metadata": {},
   "outputs": [
    {
     "name": "stdout",
     "output_type": "stream",
     "text": [
      "We obtain 14 clusters, whose sizes (# of frames recorded) are given below.\n",
      " [1] 2612 2225 1653 2980 3834 2663 3216 4492 2093 1849 2703 3061 3416 2146\n",
      "\n",
      "The within-cluster sum of squares is given below for each of the clusters.\n",
      " [1] 64436234 50617027 35628957 75991353 74566499 58765785 79469881 93840042\n",
      "\r\n",
      " [9] 51484412 44808848 65392471 66035216 70453448 46771436\n",
      "\n"
     ]
    }
   ],
   "source": [
    "df_postures_clustered = get_kmeans(df_postures, cols_features=cols_features, cols_to_scale=[], \n",
    "           nb_clusters=14, nb_configs=46, cluster_col_name='Cluster14')"
   ]
  },
  {
   "cell_type": "code",
   "execution_count": 18,
   "metadata": {},
   "outputs": [
    {
     "data": {
      "text/html": [
       "<div>\n",
       "<style scoped>\n",
       "    .dataframe tbody tr th:only-of-type {\n",
       "        vertical-align: middle;\n",
       "    }\n",
       "\n",
       "    .dataframe tbody tr th {\n",
       "        vertical-align: top;\n",
       "    }\n",
       "\n",
       "    .dataframe thead th {\n",
       "        text-align: right;\n",
       "    }\n",
       "</style>\n",
       "<table border=\"1\" class=\"dataframe\">\n",
       "  <thead>\n",
       "    <tr style=\"text-align: right;\">\n",
       "      <th></th>\n",
       "      <th>Class</th>\n",
       "      <th>User</th>\n",
       "      <th>X0</th>\n",
       "      <th>Y0</th>\n",
       "      <th>Z0</th>\n",
       "      <th>X1</th>\n",
       "      <th>Y1</th>\n",
       "      <th>Z1</th>\n",
       "      <th>X2</th>\n",
       "      <th>Y2</th>\n",
       "      <th>Z2</th>\n",
       "      <th>X3</th>\n",
       "      <th>Y3</th>\n",
       "      <th>Z3</th>\n",
       "      <th>X4</th>\n",
       "      <th>Y4</th>\n",
       "      <th>Z4</th>\n",
       "      <th>X5</th>\n",
       "      <th>Y5</th>\n",
       "      <th>Z5</th>\n",
       "      <th>X6</th>\n",
       "      <th>Y6</th>\n",
       "      <th>Z6</th>\n",
       "      <th>X7</th>\n",
       "      <th>Y7</th>\n",
       "      <th>Z7</th>\n",
       "      <th>Cluster14</th>\n",
       "    </tr>\n",
       "  </thead>\n",
       "  <tbody>\n",
       "    <tr>\n",
       "      <th>0</th>\n",
       "      <td>1</td>\n",
       "      <td>1</td>\n",
       "      <td>72.692270</td>\n",
       "      <td>50.023771</td>\n",
       "      <td>-72.963253</td>\n",
       "      <td>-11.593076</td>\n",
       "      <td>81.234142</td>\n",
       "      <td>-28.450210</td>\n",
       "      <td>51.729995</td>\n",
       "      <td>82.844469</td>\n",
       "      <td>-55.674024</td>\n",
       "      <td>86.175444</td>\n",
       "      <td>74.250346</td>\n",
       "      <td>-69.734298</td>\n",
       "      <td>30.760697</td>\n",
       "      <td>90.449170</td>\n",
       "      <td>-47.909511</td>\n",
       "      <td>10.028439</td>\n",
       "      <td>88.967979</td>\n",
       "      <td>-32.045120</td>\n",
       "      <td>7.732511</td>\n",
       "      <td>25.135415</td>\n",
       "      <td>10.723395</td>\n",
       "      <td>55.943868</td>\n",
       "      <td>19.513363</td>\n",
       "      <td>-70.380124</td>\n",
       "      <td>7</td>\n",
       "    </tr>\n",
       "    <tr>\n",
       "      <th>1</th>\n",
       "      <td>1</td>\n",
       "      <td>1</td>\n",
       "      <td>85.648015</td>\n",
       "      <td>73.561022</td>\n",
       "      <td>-71.838316</td>\n",
       "      <td>31.595034</td>\n",
       "      <td>90.217896</td>\n",
       "      <td>-47.246688</td>\n",
       "      <td>52.230858</td>\n",
       "      <td>82.361548</td>\n",
       "      <td>-55.975665</td>\n",
       "      <td>74.817984</td>\n",
       "      <td>50.129965</td>\n",
       "      <td>-70.111828</td>\n",
       "      <td>-8.906288</td>\n",
       "      <td>81.516793</td>\n",
       "      <td>-25.243914</td>\n",
       "      <td>10.277516</td>\n",
       "      <td>88.607958</td>\n",
       "      <td>-32.037539</td>\n",
       "      <td>56.308829</td>\n",
       "      <td>18.774768</td>\n",
       "      <td>-70.996523</td>\n",
       "      <td>6.913199</td>\n",
       "      <td>24.967750</td>\n",
       "      <td>9.697553</td>\n",
       "      <td>7</td>\n",
       "    </tr>\n",
       "    <tr>\n",
       "      <th>2</th>\n",
       "      <td>1</td>\n",
       "      <td>1</td>\n",
       "      <td>-10.346977</td>\n",
       "      <td>81.751331</td>\n",
       "      <td>-25.587870</td>\n",
       "      <td>33.414886</td>\n",
       "      <td>91.985986</td>\n",
       "      <td>-41.364447</td>\n",
       "      <td>5.625100</td>\n",
       "      <td>24.523349</td>\n",
       "      <td>8.120352</td>\n",
       "      <td>52.961965</td>\n",
       "      <td>83.665278</td>\n",
       "      <td>-52.519090</td>\n",
       "      <td>75.209547</td>\n",
       "      <td>52.059365</td>\n",
       "      <td>-67.660208</td>\n",
       "      <td>87.019172</td>\n",
       "      <td>75.505188</td>\n",
       "      <td>-67.462052</td>\n",
       "      <td>56.807276</td>\n",
       "      <td>20.950953</td>\n",
       "      <td>-68.375831</td>\n",
       "      <td>11.602112</td>\n",
       "      <td>89.400536</td>\n",
       "      <td>-29.062279</td>\n",
       "      <td>14</td>\n",
       "    </tr>\n",
       "    <tr>\n",
       "      <th>3</th>\n",
       "      <td>2</td>\n",
       "      <td>1</td>\n",
       "      <td>63.554969</td>\n",
       "      <td>98.490988</td>\n",
       "      <td>11.165920</td>\n",
       "      <td>49.159831</td>\n",
       "      <td>154.330730</td>\n",
       "      <td>32.004168</td>\n",
       "      <td>92.793124</td>\n",
       "      <td>137.143202</td>\n",
       "      <td>1.064904</td>\n",
       "      <td>80.854870</td>\n",
       "      <td>93.689656</td>\n",
       "      <td>-5.062411</td>\n",
       "      <td>95.207049</td>\n",
       "      <td>73.672282</td>\n",
       "      <td>-74.307346</td>\n",
       "      <td>58.421362</td>\n",
       "      <td>27.499634</td>\n",
       "      <td>-71.713081</td>\n",
       "      <td>12.660462</td>\n",
       "      <td>95.077144</td>\n",
       "      <td>29.664434</td>\n",
       "      <td>84.110115</td>\n",
       "      <td>151.545456</td>\n",
       "      <td>16.891147</td>\n",
       "      <td>11</td>\n",
       "    </tr>\n",
       "    <tr>\n",
       "      <th>4</th>\n",
       "      <td>2</td>\n",
       "      <td>1</td>\n",
       "      <td>80.873812</td>\n",
       "      <td>93.722537</td>\n",
       "      <td>-4.988816</td>\n",
       "      <td>63.572103</td>\n",
       "      <td>98.476638</td>\n",
       "      <td>11.242908</td>\n",
       "      <td>49.142700</td>\n",
       "      <td>154.347050</td>\n",
       "      <td>32.076937</td>\n",
       "      <td>95.211973</td>\n",
       "      <td>73.665367</td>\n",
       "      <td>-74.252339</td>\n",
       "      <td>58.455933</td>\n",
       "      <td>27.476873</td>\n",
       "      <td>-71.629823</td>\n",
       "      <td>20.573646</td>\n",
       "      <td>132.913455</td>\n",
       "      <td>35.349247</td>\n",
       "      <td>92.942044</td>\n",
       "      <td>137.182817</td>\n",
       "      <td>1.297511</td>\n",
       "      <td>35.480104</td>\n",
       "      <td>99.739019</td>\n",
       "      <td>22.802243</td>\n",
       "      <td>9</td>\n",
       "    </tr>\n",
       "  </tbody>\n",
       "</table>\n",
       "</div>"
      ],
      "text/plain": [
       "   Class  User         X0         Y0         Z0         X1          Y1  \\\n",
       "0      1     1  72.692270  50.023771 -72.963253 -11.593076   81.234142   \n",
       "1      1     1  85.648015  73.561022 -71.838316  31.595034   90.217896   \n",
       "2      1     1 -10.346977  81.751331 -25.587870  33.414886   91.985986   \n",
       "3      2     1  63.554969  98.490988  11.165920  49.159831  154.330730   \n",
       "4      2     1  80.873812  93.722537  -4.988816  63.572103   98.476638   \n",
       "\n",
       "          Z1         X2          Y2         Z2         X3         Y3  \\\n",
       "0 -28.450210  51.729995   82.844469 -55.674024  86.175444  74.250346   \n",
       "1 -47.246688  52.230858   82.361548 -55.975665  74.817984  50.129965   \n",
       "2 -41.364447   5.625100   24.523349   8.120352  52.961965  83.665278   \n",
       "3  32.004168  92.793124  137.143202   1.064904  80.854870  93.689656   \n",
       "4  11.242908  49.142700  154.347050  32.076937  95.211973  73.665367   \n",
       "\n",
       "          Z3         X4         Y4         Z4         X5          Y5  \\\n",
       "0 -69.734298  30.760697  90.449170 -47.909511  10.028439   88.967979   \n",
       "1 -70.111828  -8.906288  81.516793 -25.243914  10.277516   88.607958   \n",
       "2 -52.519090  75.209547  52.059365 -67.660208  87.019172   75.505188   \n",
       "3  -5.062411  95.207049  73.672282 -74.307346  58.421362   27.499634   \n",
       "4 -74.252339  58.455933  27.476873 -71.629823  20.573646  132.913455   \n",
       "\n",
       "          Z5         X6          Y6         Z6         X7          Y7  \\\n",
       "0 -32.045120   7.732511   25.135415  10.723395  55.943868   19.513363   \n",
       "1 -32.037539  56.308829   18.774768 -70.996523   6.913199   24.967750   \n",
       "2 -67.462052  56.807276   20.950953 -68.375831  11.602112   89.400536   \n",
       "3 -71.713081  12.660462   95.077144  29.664434  84.110115  151.545456   \n",
       "4  35.349247  92.942044  137.182817   1.297511  35.480104   99.739019   \n",
       "\n",
       "          Z7  Cluster14  \n",
       "0 -70.380124          7  \n",
       "1   9.697553          7  \n",
       "2 -29.062279         14  \n",
       "3  16.891147         11  \n",
       "4  22.802243          9  "
      ]
     },
     "execution_count": 18,
     "metadata": {},
     "output_type": "execute_result"
    }
   ],
   "source": [
    "df_postures_clustered.head()"
   ]
  },
  {
   "cell_type": "markdown",
   "metadata": {},
   "source": [
    "Now, we cluster while using all columns. We are interested in investigating how the User and Class have effect on how clusters are learned. This step does not make much sense for the purpose of our task, but we were curious in looking at whether k-mean is able to pickup the labels. We standardize the User and the Class columns prior to clustering in order to keep consistent distance measurement."
   ]
  },
  {
   "cell_type": "code",
   "execution_count": 12,
   "metadata": {},
   "outputs": [
    {
     "name": "stdout",
     "output_type": "stream",
     "text": [
      "We obtain 14 clusters, whose sizes (# of frames recorded) are given below.\n",
      " [1] 2424 2247 1679 2635 2928 2686 4193 2450 2351 3247 2483 3798 3441 2381\n",
      "\n",
      "The within-cluster sum of squares is given below for each of the clusters.\n",
      " [1] 54567538 50241929 35564132 63594794 65127878 52520899 86380535 64333059\n",
      "\r\n",
      " [9] 58848165 80949413 60840353 80714209 66849752 58891913\n",
      "\n"
     ]
    }
   ],
   "source": [
    "df_postures_clustered2 = get_kmeans(df_postures, cols_features=df_postures.columns, cols_to_scale=cols_labels, \n",
    "           nb_clusters=14, nb_configs=46, cluster_col_name='Cluster14')"
   ]
  },
  {
   "cell_type": "code",
   "execution_count": 20,
   "metadata": {},
   "outputs": [
    {
     "data": {
      "text/html": [
       "<div>\n",
       "<style scoped>\n",
       "    .dataframe tbody tr th:only-of-type {\n",
       "        vertical-align: middle;\n",
       "    }\n",
       "\n",
       "    .dataframe tbody tr th {\n",
       "        vertical-align: top;\n",
       "    }\n",
       "\n",
       "    .dataframe thead th {\n",
       "        text-align: right;\n",
       "    }\n",
       "</style>\n",
       "<table border=\"1\" class=\"dataframe\">\n",
       "  <thead>\n",
       "    <tr style=\"text-align: right;\">\n",
       "      <th></th>\n",
       "      <th>Class</th>\n",
       "      <th>User</th>\n",
       "      <th>X0</th>\n",
       "      <th>Y0</th>\n",
       "      <th>Z0</th>\n",
       "      <th>X1</th>\n",
       "      <th>Y1</th>\n",
       "      <th>Z1</th>\n",
       "      <th>X2</th>\n",
       "      <th>Y2</th>\n",
       "      <th>Z2</th>\n",
       "      <th>X3</th>\n",
       "      <th>Y3</th>\n",
       "      <th>Z3</th>\n",
       "      <th>X4</th>\n",
       "      <th>Y4</th>\n",
       "      <th>Z4</th>\n",
       "      <th>X5</th>\n",
       "      <th>Y5</th>\n",
       "      <th>Z5</th>\n",
       "      <th>X6</th>\n",
       "      <th>Y6</th>\n",
       "      <th>Z6</th>\n",
       "      <th>X7</th>\n",
       "      <th>Y7</th>\n",
       "      <th>Z7</th>\n",
       "      <th>Cluster14</th>\n",
       "    </tr>\n",
       "  </thead>\n",
       "  <tbody>\n",
       "    <tr>\n",
       "      <th>0</th>\n",
       "      <td>1</td>\n",
       "      <td>1</td>\n",
       "      <td>72.692270</td>\n",
       "      <td>50.023771</td>\n",
       "      <td>-72.963253</td>\n",
       "      <td>-11.593076</td>\n",
       "      <td>81.234142</td>\n",
       "      <td>-28.450210</td>\n",
       "      <td>51.729995</td>\n",
       "      <td>82.844469</td>\n",
       "      <td>-55.674024</td>\n",
       "      <td>86.175444</td>\n",
       "      <td>74.250346</td>\n",
       "      <td>-69.734298</td>\n",
       "      <td>30.760697</td>\n",
       "      <td>90.449170</td>\n",
       "      <td>-47.909511</td>\n",
       "      <td>10.028439</td>\n",
       "      <td>88.967979</td>\n",
       "      <td>-32.045120</td>\n",
       "      <td>7.732511</td>\n",
       "      <td>25.135415</td>\n",
       "      <td>10.723395</td>\n",
       "      <td>55.943868</td>\n",
       "      <td>19.513363</td>\n",
       "      <td>-70.380124</td>\n",
       "      <td>8</td>\n",
       "    </tr>\n",
       "    <tr>\n",
       "      <th>1</th>\n",
       "      <td>1</td>\n",
       "      <td>1</td>\n",
       "      <td>85.648015</td>\n",
       "      <td>73.561022</td>\n",
       "      <td>-71.838316</td>\n",
       "      <td>31.595034</td>\n",
       "      <td>90.217896</td>\n",
       "      <td>-47.246688</td>\n",
       "      <td>52.230858</td>\n",
       "      <td>82.361548</td>\n",
       "      <td>-55.975665</td>\n",
       "      <td>74.817984</td>\n",
       "      <td>50.129965</td>\n",
       "      <td>-70.111828</td>\n",
       "      <td>-8.906288</td>\n",
       "      <td>81.516793</td>\n",
       "      <td>-25.243914</td>\n",
       "      <td>10.277516</td>\n",
       "      <td>88.607958</td>\n",
       "      <td>-32.037539</td>\n",
       "      <td>56.308829</td>\n",
       "      <td>18.774768</td>\n",
       "      <td>-70.996523</td>\n",
       "      <td>6.913199</td>\n",
       "      <td>24.967750</td>\n",
       "      <td>9.697553</td>\n",
       "      <td>11</td>\n",
       "    </tr>\n",
       "    <tr>\n",
       "      <th>2</th>\n",
       "      <td>1</td>\n",
       "      <td>1</td>\n",
       "      <td>-10.346977</td>\n",
       "      <td>81.751331</td>\n",
       "      <td>-25.587870</td>\n",
       "      <td>33.414886</td>\n",
       "      <td>91.985986</td>\n",
       "      <td>-41.364447</td>\n",
       "      <td>5.625100</td>\n",
       "      <td>24.523349</td>\n",
       "      <td>8.120352</td>\n",
       "      <td>52.961965</td>\n",
       "      <td>83.665278</td>\n",
       "      <td>-52.519090</td>\n",
       "      <td>75.209547</td>\n",
       "      <td>52.059365</td>\n",
       "      <td>-67.660208</td>\n",
       "      <td>87.019172</td>\n",
       "      <td>75.505188</td>\n",
       "      <td>-67.462052</td>\n",
       "      <td>56.807276</td>\n",
       "      <td>20.950953</td>\n",
       "      <td>-68.375831</td>\n",
       "      <td>11.602112</td>\n",
       "      <td>89.400536</td>\n",
       "      <td>-29.062279</td>\n",
       "      <td>11</td>\n",
       "    </tr>\n",
       "    <tr>\n",
       "      <th>3</th>\n",
       "      <td>2</td>\n",
       "      <td>1</td>\n",
       "      <td>63.554969</td>\n",
       "      <td>98.490988</td>\n",
       "      <td>11.165920</td>\n",
       "      <td>49.159831</td>\n",
       "      <td>154.330730</td>\n",
       "      <td>32.004168</td>\n",
       "      <td>92.793124</td>\n",
       "      <td>137.143202</td>\n",
       "      <td>1.064904</td>\n",
       "      <td>80.854870</td>\n",
       "      <td>93.689656</td>\n",
       "      <td>-5.062411</td>\n",
       "      <td>95.207049</td>\n",
       "      <td>73.672282</td>\n",
       "      <td>-74.307346</td>\n",
       "      <td>58.421362</td>\n",
       "      <td>27.499634</td>\n",
       "      <td>-71.713081</td>\n",
       "      <td>12.660462</td>\n",
       "      <td>95.077144</td>\n",
       "      <td>29.664434</td>\n",
       "      <td>84.110115</td>\n",
       "      <td>151.545456</td>\n",
       "      <td>16.891147</td>\n",
       "      <td>2</td>\n",
       "    </tr>\n",
       "    <tr>\n",
       "      <th>4</th>\n",
       "      <td>2</td>\n",
       "      <td>1</td>\n",
       "      <td>80.873812</td>\n",
       "      <td>93.722537</td>\n",
       "      <td>-4.988816</td>\n",
       "      <td>63.572103</td>\n",
       "      <td>98.476638</td>\n",
       "      <td>11.242908</td>\n",
       "      <td>49.142700</td>\n",
       "      <td>154.347050</td>\n",
       "      <td>32.076937</td>\n",
       "      <td>95.211973</td>\n",
       "      <td>73.665367</td>\n",
       "      <td>-74.252339</td>\n",
       "      <td>58.455933</td>\n",
       "      <td>27.476873</td>\n",
       "      <td>-71.629823</td>\n",
       "      <td>20.573646</td>\n",
       "      <td>132.913455</td>\n",
       "      <td>35.349247</td>\n",
       "      <td>92.942044</td>\n",
       "      <td>137.182817</td>\n",
       "      <td>1.297511</td>\n",
       "      <td>35.480104</td>\n",
       "      <td>99.739019</td>\n",
       "      <td>22.802243</td>\n",
       "      <td>14</td>\n",
       "    </tr>\n",
       "  </tbody>\n",
       "</table>\n",
       "</div>"
      ],
      "text/plain": [
       "   Class  User         X0         Y0         Z0         X1          Y1  \\\n",
       "0      1     1  72.692270  50.023771 -72.963253 -11.593076   81.234142   \n",
       "1      1     1  85.648015  73.561022 -71.838316  31.595034   90.217896   \n",
       "2      1     1 -10.346977  81.751331 -25.587870  33.414886   91.985986   \n",
       "3      2     1  63.554969  98.490988  11.165920  49.159831  154.330730   \n",
       "4      2     1  80.873812  93.722537  -4.988816  63.572103   98.476638   \n",
       "\n",
       "          Z1         X2          Y2         Z2         X3         Y3  \\\n",
       "0 -28.450210  51.729995   82.844469 -55.674024  86.175444  74.250346   \n",
       "1 -47.246688  52.230858   82.361548 -55.975665  74.817984  50.129965   \n",
       "2 -41.364447   5.625100   24.523349   8.120352  52.961965  83.665278   \n",
       "3  32.004168  92.793124  137.143202   1.064904  80.854870  93.689656   \n",
       "4  11.242908  49.142700  154.347050  32.076937  95.211973  73.665367   \n",
       "\n",
       "          Z3         X4         Y4         Z4         X5          Y5  \\\n",
       "0 -69.734298  30.760697  90.449170 -47.909511  10.028439   88.967979   \n",
       "1 -70.111828  -8.906288  81.516793 -25.243914  10.277516   88.607958   \n",
       "2 -52.519090  75.209547  52.059365 -67.660208  87.019172   75.505188   \n",
       "3  -5.062411  95.207049  73.672282 -74.307346  58.421362   27.499634   \n",
       "4 -74.252339  58.455933  27.476873 -71.629823  20.573646  132.913455   \n",
       "\n",
       "          Z5         X6          Y6         Z6         X7          Y7  \\\n",
       "0 -32.045120   7.732511   25.135415  10.723395  55.943868   19.513363   \n",
       "1 -32.037539  56.308829   18.774768 -70.996523   6.913199   24.967750   \n",
       "2 -67.462052  56.807276   20.950953 -68.375831  11.602112   89.400536   \n",
       "3 -71.713081  12.660462   95.077144  29.664434  84.110115  151.545456   \n",
       "4  35.349247  92.942044  137.182817   1.297511  35.480104   99.739019   \n",
       "\n",
       "          Z7  Cluster14  \n",
       "0 -70.380124          8  \n",
       "1   9.697553         11  \n",
       "2 -29.062279         11  \n",
       "3  16.891147          2  \n",
       "4  22.802243         14  "
      ]
     },
     "execution_count": 20,
     "metadata": {},
     "output_type": "execute_result"
    }
   ],
   "source": [
    "df_postures_clustered2.head()"
   ]
  },
  {
   "cell_type": "markdown",
   "metadata": {},
   "source": [
    "**(b) Now visualize the results for k-means on a random sample of 2,000 observations without replacement (setting 109 as the random seed when sampling), using the function `r_factoextra.fviz_cluster`. Does 14 clusters seem to make sense?**"
   ]
  },
  {
   "cell_type": "markdown",
   "metadata": {},
   "source": [
    "The function below sample from the clustered dataframe obtained in (a) and return a R dataframe."
   ]
  },
  {
   "cell_type": "code",
   "execution_count": 13,
   "metadata": {},
   "outputs": [],
   "source": [
    "def get_random_postures(df_clustered, nb_samples=2000, random_seed=109):\n",
    "    # select a random number of frames\n",
    "    idx = np.random.randint(0, df_clustered.shape[0]-1, nb_samples)\n",
    "    df_clustered_sampled = df_clustered.loc[idx]\n",
    "    # transform data into a R dataframe\n",
    "    r_dict_clustered_sampled = dict()\n",
    "    for col in df_clustered_sampled.columns:\n",
    "        r_dict_clustered_sampled[col] = rpy2.robjects.FloatVector(df_clustered_sampled[col])\n",
    "    r_df_clustered_sampled = rpy2.robjects.DataFrame(r_dict_clustered_sampled)\n",
    "    return r_df_clustered_sampled"
   ]
  },
  {
   "cell_type": "markdown",
   "metadata": {},
   "source": [
    "Below is a 14-clusters visualization obtained with 2000 random frames. The User and Class information were NOT included when learning those clusters."
   ]
  },
  {
   "cell_type": "code",
   "execution_count": 14,
   "metadata": {},
   "outputs": [],
   "source": [
    "r_df_postures_clustered_2000 = get_random_postures(df_postures_clustered, nb_samples=2000, random_seed=109)"
   ]
  },
  {
   "cell_type": "code",
   "execution_count": 15,
   "metadata": {},
   "outputs": [
    {
     "data": {
      "image/png": "[encoded data removed]"
     },
     "metadata": {},
     "output_type": "display_data"
    }
   ],
   "source": [
    "%%R -i r_df_postures_clustered_2000\n",
    "library(factoextra)\n",
    "o = list(cluster = r_df_postures_clustered_2000[,c(27)], data = r_df_postures_clustered_2000)\n",
    "fviz_cluster(object=o, geom = \"point\")"
   ]
  },
  {
   "cell_type": "markdown",
   "metadata": {},
   "source": [
    "Below is the same visualization, but this time, the User and Class information were used to learn those clusters."
   ]
  },
  {
   "cell_type": "code",
   "execution_count": 16,
   "metadata": {},
   "outputs": [],
   "source": [
    "r_df_postures_clustered2_2000 = get_random_postures(df_postures_clustered2, nb_samples=2000, random_seed=109)"
   ]
  },
  {
   "cell_type": "code",
   "execution_count": 17,
   "metadata": {},
   "outputs": [
    {
     "data": {
      "image/png": "[encoded data removed]"
     },
     "metadata": {},
     "output_type": "display_data"
    }
   ],
   "source": [
    "%%R -i r_df_postures_clustered2_2000\n",
    "library(factoextra)\n",
    "o = list(cluster = r_df_postures_clustered2_2000[,c(27)], data = r_df_postures_clustered2_2000)\n",
    "fviz_cluster(object=o, geom = \"point\")"
   ]
  },
  {
   "cell_type": "markdown",
   "metadata": {},
   "source": [
    "The clusters above appear very overlapped on a PCA plot in both cases. While the first dimension only explains 11-13% of the variance in the data, the second component explains just 8-9%. Some centroids are very close to one-another in that space. We might want to merge some clusters together. Using 14 clusters was not a good choice for our exploration.\n",
    "\n",
    "An attempt for user identification failed in this case. We would randomly sampled without replacement a constant number of records per class per user in order to balance classes prior to clustering. This is however not possible because some classes are very underrepresented, especially users ids 4 and 7. For example there is only 1 frame recorded for user 7a making posture 1. \n",
    "\n",
    "We can also conclude that adding the labels (User and Class) did not improve the performance of k-means clustering. "
   ]
  },
  {
   "cell_type": "markdown",
   "metadata": {},
   "source": [
    "**(c) Compare the results from the clustering algorithm to the actual users for the entire dataset.**"
   ]
  },
  {
   "cell_type": "markdown",
   "metadata": {},
   "source": [
    "*(i) calculate the Gini coefficient for each cluster, and also report the average Gini coefficient for the clustering method. For $K$ total labels, the Gini coefficient for each cluster is given by $$1 - \\sum_{i=1}^K p_i^2,$$ where $p_i$ is the proportion of data point with label $i$ in the cluster (given that there are also $K$ clusters, e.g., 14 people and 14 clusters).*"
   ]
  },
  {
   "cell_type": "code",
   "execution_count": 26,
   "metadata": {},
   "outputs": [
    {
     "data": {
      "text/html": [
       "<div>\n",
       "<style scoped>\n",
       "    .dataframe tbody tr th:only-of-type {\n",
       "        vertical-align: middle;\n",
       "    }\n",
       "\n",
       "    .dataframe tbody tr th {\n",
       "        vertical-align: top;\n",
       "    }\n",
       "\n",
       "    .dataframe thead th {\n",
       "        text-align: right;\n",
       "    }\n",
       "</style>\n",
       "<table border=\"1\" class=\"dataframe\">\n",
       "  <thead>\n",
       "    <tr style=\"text-align: right;\">\n",
       "      <th></th>\n",
       "      <th>Class</th>\n",
       "      <th>User</th>\n",
       "      <th>X0</th>\n",
       "      <th>Y0</th>\n",
       "      <th>Z0</th>\n",
       "      <th>X1</th>\n",
       "      <th>Y1</th>\n",
       "      <th>Z1</th>\n",
       "      <th>X2</th>\n",
       "      <th>Y2</th>\n",
       "      <th>Z2</th>\n",
       "      <th>X3</th>\n",
       "      <th>Y3</th>\n",
       "      <th>Z3</th>\n",
       "      <th>X4</th>\n",
       "      <th>Y4</th>\n",
       "      <th>Z4</th>\n",
       "      <th>X5</th>\n",
       "      <th>Y5</th>\n",
       "      <th>Z5</th>\n",
       "      <th>X6</th>\n",
       "      <th>Y6</th>\n",
       "      <th>Z6</th>\n",
       "      <th>X7</th>\n",
       "      <th>Y7</th>\n",
       "      <th>Z7</th>\n",
       "      <th>Cluster14</th>\n",
       "    </tr>\n",
       "  </thead>\n",
       "  <tbody>\n",
       "    <tr>\n",
       "      <th>0</th>\n",
       "      <td>1</td>\n",
       "      <td>1</td>\n",
       "      <td>72.692270</td>\n",
       "      <td>50.023771</td>\n",
       "      <td>-72.963253</td>\n",
       "      <td>-11.593076</td>\n",
       "      <td>81.234142</td>\n",
       "      <td>-28.450210</td>\n",
       "      <td>51.729995</td>\n",
       "      <td>82.844469</td>\n",
       "      <td>-55.674024</td>\n",
       "      <td>86.175444</td>\n",
       "      <td>74.250346</td>\n",
       "      <td>-69.734298</td>\n",
       "      <td>30.760697</td>\n",
       "      <td>90.449170</td>\n",
       "      <td>-47.909511</td>\n",
       "      <td>10.028439</td>\n",
       "      <td>88.967979</td>\n",
       "      <td>-32.045120</td>\n",
       "      <td>7.732511</td>\n",
       "      <td>25.135415</td>\n",
       "      <td>10.723395</td>\n",
       "      <td>55.943868</td>\n",
       "      <td>19.513363</td>\n",
       "      <td>-70.380124</td>\n",
       "      <td>7</td>\n",
       "    </tr>\n",
       "    <tr>\n",
       "      <th>1</th>\n",
       "      <td>1</td>\n",
       "      <td>1</td>\n",
       "      <td>85.648015</td>\n",
       "      <td>73.561022</td>\n",
       "      <td>-71.838316</td>\n",
       "      <td>31.595034</td>\n",
       "      <td>90.217896</td>\n",
       "      <td>-47.246688</td>\n",
       "      <td>52.230858</td>\n",
       "      <td>82.361548</td>\n",
       "      <td>-55.975665</td>\n",
       "      <td>74.817984</td>\n",
       "      <td>50.129965</td>\n",
       "      <td>-70.111828</td>\n",
       "      <td>-8.906288</td>\n",
       "      <td>81.516793</td>\n",
       "      <td>-25.243914</td>\n",
       "      <td>10.277516</td>\n",
       "      <td>88.607958</td>\n",
       "      <td>-32.037539</td>\n",
       "      <td>56.308829</td>\n",
       "      <td>18.774768</td>\n",
       "      <td>-70.996523</td>\n",
       "      <td>6.913199</td>\n",
       "      <td>24.967750</td>\n",
       "      <td>9.697553</td>\n",
       "      <td>7</td>\n",
       "    </tr>\n",
       "    <tr>\n",
       "      <th>2</th>\n",
       "      <td>1</td>\n",
       "      <td>1</td>\n",
       "      <td>-10.346977</td>\n",
       "      <td>81.751331</td>\n",
       "      <td>-25.587870</td>\n",
       "      <td>33.414886</td>\n",
       "      <td>91.985986</td>\n",
       "      <td>-41.364447</td>\n",
       "      <td>5.625100</td>\n",
       "      <td>24.523349</td>\n",
       "      <td>8.120352</td>\n",
       "      <td>52.961965</td>\n",
       "      <td>83.665278</td>\n",
       "      <td>-52.519090</td>\n",
       "      <td>75.209547</td>\n",
       "      <td>52.059365</td>\n",
       "      <td>-67.660208</td>\n",
       "      <td>87.019172</td>\n",
       "      <td>75.505188</td>\n",
       "      <td>-67.462052</td>\n",
       "      <td>56.807276</td>\n",
       "      <td>20.950953</td>\n",
       "      <td>-68.375831</td>\n",
       "      <td>11.602112</td>\n",
       "      <td>89.400536</td>\n",
       "      <td>-29.062279</td>\n",
       "      <td>14</td>\n",
       "    </tr>\n",
       "    <tr>\n",
       "      <th>3</th>\n",
       "      <td>2</td>\n",
       "      <td>1</td>\n",
       "      <td>63.554969</td>\n",
       "      <td>98.490988</td>\n",
       "      <td>11.165920</td>\n",
       "      <td>49.159831</td>\n",
       "      <td>154.330730</td>\n",
       "      <td>32.004168</td>\n",
       "      <td>92.793124</td>\n",
       "      <td>137.143202</td>\n",
       "      <td>1.064904</td>\n",
       "      <td>80.854870</td>\n",
       "      <td>93.689656</td>\n",
       "      <td>-5.062411</td>\n",
       "      <td>95.207049</td>\n",
       "      <td>73.672282</td>\n",
       "      <td>-74.307346</td>\n",
       "      <td>58.421362</td>\n",
       "      <td>27.499634</td>\n",
       "      <td>-71.713081</td>\n",
       "      <td>12.660462</td>\n",
       "      <td>95.077144</td>\n",
       "      <td>29.664434</td>\n",
       "      <td>84.110115</td>\n",
       "      <td>151.545456</td>\n",
       "      <td>16.891147</td>\n",
       "      <td>11</td>\n",
       "    </tr>\n",
       "    <tr>\n",
       "      <th>4</th>\n",
       "      <td>2</td>\n",
       "      <td>1</td>\n",
       "      <td>80.873812</td>\n",
       "      <td>93.722537</td>\n",
       "      <td>-4.988816</td>\n",
       "      <td>63.572103</td>\n",
       "      <td>98.476638</td>\n",
       "      <td>11.242908</td>\n",
       "      <td>49.142700</td>\n",
       "      <td>154.347050</td>\n",
       "      <td>32.076937</td>\n",
       "      <td>95.211973</td>\n",
       "      <td>73.665367</td>\n",
       "      <td>-74.252339</td>\n",
       "      <td>58.455933</td>\n",
       "      <td>27.476873</td>\n",
       "      <td>-71.629823</td>\n",
       "      <td>20.573646</td>\n",
       "      <td>132.913455</td>\n",
       "      <td>35.349247</td>\n",
       "      <td>92.942044</td>\n",
       "      <td>137.182817</td>\n",
       "      <td>1.297511</td>\n",
       "      <td>35.480104</td>\n",
       "      <td>99.739019</td>\n",
       "      <td>22.802243</td>\n",
       "      <td>9</td>\n",
       "    </tr>\n",
       "  </tbody>\n",
       "</table>\n",
       "</div>"
      ],
      "text/plain": [
       "   Class  User         X0         Y0         Z0         X1          Y1  \\\n",
       "0      1     1  72.692270  50.023771 -72.963253 -11.593076   81.234142   \n",
       "1      1     1  85.648015  73.561022 -71.838316  31.595034   90.217896   \n",
       "2      1     1 -10.346977  81.751331 -25.587870  33.414886   91.985986   \n",
       "3      2     1  63.554969  98.490988  11.165920  49.159831  154.330730   \n",
       "4      2     1  80.873812  93.722537  -4.988816  63.572103   98.476638   \n",
       "\n",
       "          Z1         X2          Y2         Z2         X3         Y3  \\\n",
       "0 -28.450210  51.729995   82.844469 -55.674024  86.175444  74.250346   \n",
       "1 -47.246688  52.230858   82.361548 -55.975665  74.817984  50.129965   \n",
       "2 -41.364447   5.625100   24.523349   8.120352  52.961965  83.665278   \n",
       "3  32.004168  92.793124  137.143202   1.064904  80.854870  93.689656   \n",
       "4  11.242908  49.142700  154.347050  32.076937  95.211973  73.665367   \n",
       "\n",
       "          Z3         X4         Y4         Z4         X5          Y5  \\\n",
       "0 -69.734298  30.760697  90.449170 -47.909511  10.028439   88.967979   \n",
       "1 -70.111828  -8.906288  81.516793 -25.243914  10.277516   88.607958   \n",
       "2 -52.519090  75.209547  52.059365 -67.660208  87.019172   75.505188   \n",
       "3  -5.062411  95.207049  73.672282 -74.307346  58.421362   27.499634   \n",
       "4 -74.252339  58.455933  27.476873 -71.629823  20.573646  132.913455   \n",
       "\n",
       "          Z5         X6          Y6         Z6         X7          Y7  \\\n",
       "0 -32.045120   7.732511   25.135415  10.723395  55.943868   19.513363   \n",
       "1 -32.037539  56.308829   18.774768 -70.996523   6.913199   24.967750   \n",
       "2 -67.462052  56.807276   20.950953 -68.375831  11.602112   89.400536   \n",
       "3 -71.713081  12.660462   95.077144  29.664434  84.110115  151.545456   \n",
       "4  35.349247  92.942044  137.182817   1.297511  35.480104   99.739019   \n",
       "\n",
       "          Z7  Cluster14  \n",
       "0 -70.380124          7  \n",
       "1   9.697553          7  \n",
       "2 -29.062279         14  \n",
       "3  16.891147         11  \n",
       "4  22.802243          9  "
      ]
     },
     "execution_count": 26,
     "metadata": {},
     "output_type": "execute_result"
    }
   ],
   "source": [
    "df_postures_clustered.head()"
   ]
  },
  {
   "cell_type": "code",
   "execution_count": 33,
   "metadata": {},
   "outputs": [],
   "source": [
    "def get_gini_coefs(df_clustered, label_col_name='User', cluster_col_name='Cluster14', cluster_values=range(1,15,1)):\n",
    "    p_squared = [[round(df_clustered[(df_clustered[label_col_name]==label) & (df_clustered[cluster_col_name]==cluster)].shape[0]/\n",
    "                df_clustered[df_clustered[cluster_col_name]==cluster].shape[0],3)**2 for label in cluster_values] for cluster in cluster_values]\n",
    "    g = [round(1-sum(p_i_squared), 3) for p_i_squared in p_squared]\n",
    "    return g, p_squared"
   ]
  },
  {
   "cell_type": "code",
   "execution_count": 68,
   "metadata": {},
   "outputs": [],
   "source": [
    "gini_coefs, p_squared = get_gini_coefs(df_postures_clustered)"
   ]
  },
  {
   "cell_type": "code",
   "execution_count": 69,
   "metadata": {
    "scrolled": true
   },
   "outputs": [
    {
     "name": "stdout",
     "output_type": "stream",
     "text": [
      "Clusters' Gini Coefs\n",
      "[0.9, 0.896, 0.901, 0.807, 0.837, 0.881, 0.846, 0.834, 0.895, 0.894, 0.897, 0.891, 0.892, 0.899]\n",
      "Average Gini Coef: 0.876\n"
     ]
    }
   ],
   "source": [
    "print(\"Clusters' Gini Coefs\")\n",
    "print(gini_coefs)\n",
    "print(\"Average Gini Coef: {0:.3f}\".format(sum(gini_coefs)/len(gini_coefs)))"
   ]
  },
  {
   "cell_type": "markdown",
   "metadata": {},
   "source": [
    "The Gini Coef measured if any of the users show up in high proportion in either of the clusters that were created. If one or more of the users show up in high proportion in the cluster in consideration, the sum of squares for that cluster will be closer to 1 and the Gini coefficient will be closer to 0.\n",
    "\n",
    "We observe high Gini coefficients for each cluster, as well as high average Gini coefficient. Usually the Gini coef is maximal if the classes are perfectly mixed within the cluster. This provides additional evidence against learning clusters for the purpose of user identification based on the dataset at hand."
   ]
  },
  {
   "cell_type": "markdown",
   "metadata": {},
   "source": [
    "*(ii) calculate the entropy of each cluster, where entropy is defined as $$-\\sum_{i=1}^K p_i \\log p_i,$$ and also report the average entropy.*"
   ]
  },
  {
   "cell_type": "code",
   "execution_count": 34,
   "metadata": {},
   "outputs": [],
   "source": [
    "def get_entropys(df_clustered, label_col_name='User', cluster_col_name='Cluster14', cluster_values=range(1,15,1)):\n",
    "    p = [[round(df_clustered[(df_clustered[label_col_name]==label) & (df_clustered[cluster_col_name]==cluster)].shape[0]/\n",
    "                df_clustered[df_clustered[cluster_col_name]==cluster].shape[0],3) for label in cluster_values] for cluster in cluster_values]\n",
    "    p_log_p = [[p_i*math.log(p_i) for p_i in p_i_s if p_i!=0] for p_i_s in p]\n",
    "    e = [-round(sum(p_log_p_i),3) for p_log_p_i in p_log_p]\n",
    "    return e"
   ]
  },
  {
   "cell_type": "code",
   "execution_count": 70,
   "metadata": {},
   "outputs": [],
   "source": [
    "entropys = get_entropys(df_postures_clustered)"
   ]
  },
  {
   "cell_type": "code",
   "execution_count": 71,
   "metadata": {},
   "outputs": [
    {
     "name": "stdout",
     "output_type": "stream",
     "text": [
      "Clusters' Entropy\n",
      "[2.404, 2.375, 2.428, 1.964, 2.008, 2.296, 2.065, 1.99, 2.389, 2.377, 2.385, 2.316, 2.336, 2.404]\n",
      "Average Entropy: 2.267\n"
     ]
    }
   ],
   "source": [
    "print(\"Clusters' Entropy\")\n",
    "print(entropys)\n",
    "print(\"Average Entropy: {0:.3f}\".format(sum(entropys)/len(entropys)))"
   ]
  },
  {
   "cell_type": "markdown",
   "metadata": {},
   "source": [
    " Entropy makes use of the probability of a record in the cluster i of being classified as class j. Although the Gini coef aims to minimize the probability of misclassification, entropy is a way to measure impurity. The entropy is 0 if all records of the cluster belong to the same user, and the entropy is maximal if we have a uniform users distribution. In other words, the entropy of a well-separated cluster is zero because the probability is 1 and log (1) = 0. Entropy reaches maximum value when all users in the cluster have equal probability. This is almost the case we have here. Therefore the cluster are highly impure."
   ]
  },
  {
   "cell_type": "markdown",
   "metadata": {},
   "source": [
    "**(d) Repeat all of the above steps, but group by posture rather than by user.**"
   ]
  },
  {
   "cell_type": "markdown",
   "metadata": {},
   "source": [
    "*(i) Run the k-means algorithm with 5 centroids instead of 14, creating a variable named `Cluster5` and adding it to the dataset.*"
   ]
  },
  {
   "cell_type": "code",
   "execution_count": 18,
   "metadata": {},
   "outputs": [
    {
     "name": "stdout",
     "output_type": "stream",
     "text": [
      "We obtain 5 clusters, whose sizes (# of frames recorded) are given below.\n",
      "[1] 6939 9155 6997 9549 6303\n",
      "\n",
      "The within-cluster sum of squares is given below for each of the clusters.\n",
      "[1] 186370570 207960457 191405341 269665813 173199276\n",
      "\n"
     ]
    }
   ],
   "source": [
    "df_postures_clustered_5 = get_kmeans(df_postures_clustered, cols_features=cols_features, cols_to_scale=[], \n",
    "           nb_clusters=5, nb_configs=46, cluster_col_name='Cluster5')"
   ]
  },
  {
   "cell_type": "code",
   "execution_count": 34,
   "metadata": {},
   "outputs": [
    {
     "data": {
      "text/html": [
       "<div>\n",
       "<style scoped>\n",
       "    .dataframe tbody tr th:only-of-type {\n",
       "        vertical-align: middle;\n",
       "    }\n",
       "\n",
       "    .dataframe tbody tr th {\n",
       "        vertical-align: top;\n",
       "    }\n",
       "\n",
       "    .dataframe thead th {\n",
       "        text-align: right;\n",
       "    }\n",
       "</style>\n",
       "<table border=\"1\" class=\"dataframe\">\n",
       "  <thead>\n",
       "    <tr style=\"text-align: right;\">\n",
       "      <th></th>\n",
       "      <th>Class</th>\n",
       "      <th>User</th>\n",
       "      <th>X0</th>\n",
       "      <th>Y0</th>\n",
       "      <th>Z0</th>\n",
       "      <th>X1</th>\n",
       "      <th>Y1</th>\n",
       "      <th>Z1</th>\n",
       "      <th>X2</th>\n",
       "      <th>Y2</th>\n",
       "      <th>Z2</th>\n",
       "      <th>X3</th>\n",
       "      <th>Y3</th>\n",
       "      <th>Z3</th>\n",
       "      <th>X4</th>\n",
       "      <th>Y4</th>\n",
       "      <th>Z4</th>\n",
       "      <th>X5</th>\n",
       "      <th>Y5</th>\n",
       "      <th>Z5</th>\n",
       "      <th>X6</th>\n",
       "      <th>Y6</th>\n",
       "      <th>Z6</th>\n",
       "      <th>X7</th>\n",
       "      <th>Y7</th>\n",
       "      <th>Z7</th>\n",
       "      <th>Cluster14</th>\n",
       "      <th>Cluster5</th>\n",
       "    </tr>\n",
       "  </thead>\n",
       "  <tbody>\n",
       "    <tr>\n",
       "      <th>0</th>\n",
       "      <td>1</td>\n",
       "      <td>2</td>\n",
       "      <td>72.692270</td>\n",
       "      <td>50.023771</td>\n",
       "      <td>-72.963253</td>\n",
       "      <td>-11.593076</td>\n",
       "      <td>81.234142</td>\n",
       "      <td>-28.450210</td>\n",
       "      <td>51.729995</td>\n",
       "      <td>82.844469</td>\n",
       "      <td>-55.674024</td>\n",
       "      <td>86.175444</td>\n",
       "      <td>74.250346</td>\n",
       "      <td>-69.734298</td>\n",
       "      <td>30.760697</td>\n",
       "      <td>90.449170</td>\n",
       "      <td>-47.909511</td>\n",
       "      <td>10.028439</td>\n",
       "      <td>88.967979</td>\n",
       "      <td>-32.045120</td>\n",
       "      <td>7.732511</td>\n",
       "      <td>25.135415</td>\n",
       "      <td>10.723395</td>\n",
       "      <td>55.943868</td>\n",
       "      <td>19.513363</td>\n",
       "      <td>-70.380124</td>\n",
       "      <td>7</td>\n",
       "      <td>1</td>\n",
       "    </tr>\n",
       "    <tr>\n",
       "      <th>1</th>\n",
       "      <td>1</td>\n",
       "      <td>2</td>\n",
       "      <td>85.648015</td>\n",
       "      <td>73.561022</td>\n",
       "      <td>-71.838316</td>\n",
       "      <td>31.595034</td>\n",
       "      <td>90.217896</td>\n",
       "      <td>-47.246688</td>\n",
       "      <td>52.230858</td>\n",
       "      <td>82.361548</td>\n",
       "      <td>-55.975665</td>\n",
       "      <td>74.817984</td>\n",
       "      <td>50.129965</td>\n",
       "      <td>-70.111828</td>\n",
       "      <td>-8.906288</td>\n",
       "      <td>81.516793</td>\n",
       "      <td>-25.243914</td>\n",
       "      <td>10.277516</td>\n",
       "      <td>88.607958</td>\n",
       "      <td>-32.037539</td>\n",
       "      <td>56.308829</td>\n",
       "      <td>18.774768</td>\n",
       "      <td>-70.996523</td>\n",
       "      <td>6.913199</td>\n",
       "      <td>24.967750</td>\n",
       "      <td>9.697553</td>\n",
       "      <td>7</td>\n",
       "      <td>3</td>\n",
       "    </tr>\n",
       "    <tr>\n",
       "      <th>2</th>\n",
       "      <td>1</td>\n",
       "      <td>2</td>\n",
       "      <td>-10.346977</td>\n",
       "      <td>81.751331</td>\n",
       "      <td>-25.587870</td>\n",
       "      <td>33.414886</td>\n",
       "      <td>91.985986</td>\n",
       "      <td>-41.364447</td>\n",
       "      <td>5.625100</td>\n",
       "      <td>24.523349</td>\n",
       "      <td>8.120352</td>\n",
       "      <td>52.961965</td>\n",
       "      <td>83.665278</td>\n",
       "      <td>-52.519090</td>\n",
       "      <td>75.209547</td>\n",
       "      <td>52.059365</td>\n",
       "      <td>-67.660208</td>\n",
       "      <td>87.019172</td>\n",
       "      <td>75.505188</td>\n",
       "      <td>-67.462052</td>\n",
       "      <td>56.807276</td>\n",
       "      <td>20.950953</td>\n",
       "      <td>-68.375831</td>\n",
       "      <td>11.602112</td>\n",
       "      <td>89.400536</td>\n",
       "      <td>-29.062279</td>\n",
       "      <td>14</td>\n",
       "      <td>5</td>\n",
       "    </tr>\n",
       "    <tr>\n",
       "      <th>3</th>\n",
       "      <td>2</td>\n",
       "      <td>2</td>\n",
       "      <td>63.554969</td>\n",
       "      <td>98.490988</td>\n",
       "      <td>11.165920</td>\n",
       "      <td>49.159831</td>\n",
       "      <td>154.330730</td>\n",
       "      <td>32.004168</td>\n",
       "      <td>92.793124</td>\n",
       "      <td>137.143202</td>\n",
       "      <td>1.064904</td>\n",
       "      <td>80.854870</td>\n",
       "      <td>93.689656</td>\n",
       "      <td>-5.062411</td>\n",
       "      <td>95.207049</td>\n",
       "      <td>73.672282</td>\n",
       "      <td>-74.307346</td>\n",
       "      <td>58.421362</td>\n",
       "      <td>27.499634</td>\n",
       "      <td>-71.713081</td>\n",
       "      <td>12.660462</td>\n",
       "      <td>95.077144</td>\n",
       "      <td>29.664434</td>\n",
       "      <td>84.110115</td>\n",
       "      <td>151.545456</td>\n",
       "      <td>16.891147</td>\n",
       "      <td>11</td>\n",
       "      <td>5</td>\n",
       "    </tr>\n",
       "    <tr>\n",
       "      <th>4</th>\n",
       "      <td>2</td>\n",
       "      <td>2</td>\n",
       "      <td>80.873812</td>\n",
       "      <td>93.722537</td>\n",
       "      <td>-4.988816</td>\n",
       "      <td>63.572103</td>\n",
       "      <td>98.476638</td>\n",
       "      <td>11.242908</td>\n",
       "      <td>49.142700</td>\n",
       "      <td>154.347050</td>\n",
       "      <td>32.076937</td>\n",
       "      <td>95.211973</td>\n",
       "      <td>73.665367</td>\n",
       "      <td>-74.252339</td>\n",
       "      <td>58.455933</td>\n",
       "      <td>27.476873</td>\n",
       "      <td>-71.629823</td>\n",
       "      <td>20.573646</td>\n",
       "      <td>132.913455</td>\n",
       "      <td>35.349247</td>\n",
       "      <td>92.942044</td>\n",
       "      <td>137.182817</td>\n",
       "      <td>1.297511</td>\n",
       "      <td>35.480104</td>\n",
       "      <td>99.739019</td>\n",
       "      <td>22.802243</td>\n",
       "      <td>9</td>\n",
       "      <td>2</td>\n",
       "    </tr>\n",
       "  </tbody>\n",
       "</table>\n",
       "</div>"
      ],
      "text/plain": [
       "   Class  User         X0         Y0         Z0         X1          Y1  \\\n",
       "0      1     2  72.692270  50.023771 -72.963253 -11.593076   81.234142   \n",
       "1      1     2  85.648015  73.561022 -71.838316  31.595034   90.217896   \n",
       "2      1     2 -10.346977  81.751331 -25.587870  33.414886   91.985986   \n",
       "3      2     2  63.554969  98.490988  11.165920  49.159831  154.330730   \n",
       "4      2     2  80.873812  93.722537  -4.988816  63.572103   98.476638   \n",
       "\n",
       "          Z1         X2          Y2         Z2         X3         Y3  \\\n",
       "0 -28.450210  51.729995   82.844469 -55.674024  86.175444  74.250346   \n",
       "1 -47.246688  52.230858   82.361548 -55.975665  74.817984  50.129965   \n",
       "2 -41.364447   5.625100   24.523349   8.120352  52.961965  83.665278   \n",
       "3  32.004168  92.793124  137.143202   1.064904  80.854870  93.689656   \n",
       "4  11.242908  49.142700  154.347050  32.076937  95.211973  73.665367   \n",
       "\n",
       "          Z3         X4         Y4         Z4         X5          Y5  \\\n",
       "0 -69.734298  30.760697  90.449170 -47.909511  10.028439   88.967979   \n",
       "1 -70.111828  -8.906288  81.516793 -25.243914  10.277516   88.607958   \n",
       "2 -52.519090  75.209547  52.059365 -67.660208  87.019172   75.505188   \n",
       "3  -5.062411  95.207049  73.672282 -74.307346  58.421362   27.499634   \n",
       "4 -74.252339  58.455933  27.476873 -71.629823  20.573646  132.913455   \n",
       "\n",
       "          Z5         X6          Y6         Z6         X7          Y7  \\\n",
       "0 -32.045120   7.732511   25.135415  10.723395  55.943868   19.513363   \n",
       "1 -32.037539  56.308829   18.774768 -70.996523   6.913199   24.967750   \n",
       "2 -67.462052  56.807276   20.950953 -68.375831  11.602112   89.400536   \n",
       "3 -71.713081  12.660462   95.077144  29.664434  84.110115  151.545456   \n",
       "4  35.349247  92.942044  137.182817   1.297511  35.480104   99.739019   \n",
       "\n",
       "          Z7  Cluster14  Cluster5  \n",
       "0 -70.380124          7         1  \n",
       "1   9.697553          7         3  \n",
       "2 -29.062279         14         5  \n",
       "3  16.891147         11         5  \n",
       "4  22.802243          9         2  "
      ]
     },
     "execution_count": 34,
     "metadata": {},
     "output_type": "execute_result"
    }
   ],
   "source": [
    "df_postures_clustered_5.head()"
   ]
  },
  {
   "cell_type": "markdown",
   "metadata": {},
   "source": [
    "*(ii) Visualize the results for k-means on a random sample of 2,000 observations without replacement (setting 109 as the random seed when sampling), using the function `r_factoextra.fviz_cluster`. Does 5 clusters seem to make sense?*"
   ]
  },
  {
   "cell_type": "code",
   "execution_count": 19,
   "metadata": {},
   "outputs": [],
   "source": [
    "r_df_postures_clustered_5_2000 = get_random_postures(df_postures_clustered_5, nb_samples=2000, random_seed=109)"
   ]
  },
  {
   "cell_type": "code",
   "execution_count": 20,
   "metadata": {},
   "outputs": [
    {
     "data": {
      "image/png": "[encoded data removed]"
     },
     "metadata": {},
     "output_type": "display_data"
    }
   ],
   "source": [
    "%%R -i r_df_postures_clustered_5_2000\n",
    "library(factoextra)\n",
    "o = list(cluster = r_df_postures_clustered_5_2000[,c(28)], data = r_df_postures_clustered_5_2000)\n",
    "fviz_cluster(object=o, geom = \"point\")"
   ]
  },
  {
   "cell_type": "markdown",
   "metadata": {},
   "source": [
    "We can already wittness a better clusters separation with 5 clusters, compared to the results obtained with 14 clusters."
   ]
  },
  {
   "cell_type": "markdown",
   "metadata": {},
   "source": [
    "*(iii) Calculate the Gini coefficient for each cluster, and also report the average Gini coefficient.*"
   ]
  },
  {
   "cell_type": "code",
   "execution_count": 73,
   "metadata": {},
   "outputs": [
    {
     "name": "stdout",
     "output_type": "stream",
     "text": [
      "Clusters' Gini Coefs\n",
      "[0.727, 0.405, 0.738, 0.285, 0.734]\n",
      "Average Gini Coef: 0.578\n"
     ]
    }
   ],
   "source": [
    "gini_coefs_5, p_squared_5 = get_gini_coefs(df_postures_clustered_5, label_col_name='Class', cluster_col_name='Cluster5', cluster_values=range(1,6,1))\n",
    "print(\"Clusters' Gini Coefs\")\n",
    "print(gini_coefs_5)\n",
    "print(\"Average Gini Coef: {0:.3f}\".format(sum(gini_coefs_5)/len(gini_coefs_5)))"
   ]
  },
  {
   "cell_type": "markdown",
   "metadata": {},
   "source": [
    "The Gini coef have improved from ca. 0.87 down to 0.57. The 2nd cluster has a strong proportion of a specific posture and would most likely be a strong representant of that posture.  "
   ]
  },
  {
   "cell_type": "code",
   "execution_count": 74,
   "metadata": {},
   "outputs": [
    {
     "data": {
      "text/plain": [
       "([0.0, 0.019321000000000005, 0.002304, 0.0033640000000000002, 0.570025],\n",
       " [1.6e-05, 0.697225, 6.4e-05, 0.000529, 0.016900000000000002])"
      ]
     },
     "execution_count": 74,
     "metadata": {},
     "output_type": "execute_result"
    }
   ],
   "source": [
    "p_squared_5[1], p_squared_5[3]"
   ]
  },
  {
   "cell_type": "markdown",
   "metadata": {},
   "source": [
    "The 2nd cluster can most likely be labelled as Class 2 (stop - hand flat). The 4th cluster can be labelled as Class 5 (grab - fingers curled as if to grab) "
   ]
  },
  {
   "cell_type": "markdown",
   "metadata": {},
   "source": [
    "*(iv) Calculate the entropy of each cluster, and also report the average entropy.*"
   ]
  },
  {
   "cell_type": "code",
   "execution_count": 75,
   "metadata": {},
   "outputs": [
    {
     "name": "stdout",
     "output_type": "stream",
     "text": [
      "Clusters' Entropy\n",
      "[1.342, 0.797, 1.361, 0.563, 1.355]\n",
      "Average Entropy: 1.084\n"
     ]
    }
   ],
   "source": [
    "entropys_5 = get_entropys(df_postures_clustered_5, label_col_name='Class', cluster_col_name='Cluster5', cluster_values=range(1,6,1))\n",
    "print(\"Clusters' Entropy\")\n",
    "print(entropys_5)\n",
    "print(\"Average Entropy: {0:.3f}\".format(sum(entropys_5)/len(entropys_5)))"
   ]
  },
  {
   "cell_type": "markdown",
   "metadata": {},
   "source": [
    "The entropy has significantly improved from 2.2 down to 1 on average, suggesting more purity with 5 clusters, instead of 14."
   ]
  },
  {
   "cell_type": "markdown",
   "metadata": {},
   "source": [
    "(e) What do the results suggest? Does this make sense in the context of what we know about the problem?"
   ]
  },
  {
   "cell_type": "markdown",
   "metadata": {},
   "source": [
    "The results suggest that our dataset is more likely to be classified into 5 groups rather than 14. Given the recorded markers' positions, we have almost no chance to identify the user from whom the records were made. The positions obtained from the same user do not share enough similarities accross different hand postures, so that they can be grouped into a distinct cluster. Nevertheless users perform the postures in a similar way, so that the distances between positions recorded from different users is minimal, allowing us to group them into clusters with acceptable purity. \n",
    "\n",
    "These results make sense but we might want to search for the best number of clusters which would allow us to achieve better separation, and maybe to learn more about our data."
   ]
  },
  {
   "cell_type": "markdown",
   "metadata": {},
   "source": [
    "### Problem 2: Clustering Evaluation and Hierarchical Clustering"
   ]
  },
  {
   "cell_type": "markdown",
   "metadata": {},
   "source": [
    "In the previous problem, we examined the results of running k-means with 5 and 14 centroids on the postures data. In this problem, we will investigate various ways of evaluating the quality of a clustering assignment. For all of these questions, we can work with the sample of 2,000 data points obtained in the previous problem.\n",
    "\n",
    "Hint: Use the function `r_factoextra.fviz_nbclust`."
   ]
  },
  {
   "cell_type": "markdown",
   "metadata": {},
   "source": [
    "**(a) Use the elbow method to evaluate the best choice of the number of clusters, plotting the total within-cluster variation against the number of clusters, for k-means clustering with $k \\in \\{1,2,...,15\\}.$**\n",
    " "
   ]
  },
  {
   "cell_type": "markdown",
   "metadata": {},
   "source": [
    "Let's recall the samples of 2000 data points from problem 1."
   ]
  },
  {
   "cell_type": "code",
   "execution_count": 58,
   "metadata": {
    "scrolled": true
   },
   "outputs": [
    {
     "data": {
      "text/html": [
       "\n",
       "    <span>R/rpy2 DataFrame (6 x 27)</span>\n",
       "    <table>\n",
       "      <thead>\n",
       "        <tr>\n",
       "        \n",
       "          <th>Class</th>\n",
       "        \n",
       "          <th>User</th>\n",
       "        \n",
       "          <th>X0</th>\n",
       "        \n",
       "          <th>...</th>\n",
       "        \n",
       "          <th>Y7</th>\n",
       "        \n",
       "          <th>Z7</th>\n",
       "        \n",
       "          <th>Cluster14</th>\n",
       "        \n",
       "        </tr>\n",
       "      </thead>\n",
       "      <tbody>\n",
       "      \n",
       "      <tr>\n",
       "      \n",
       "      <td>\n",
       "        2.000000\n",
       "      </td>\n",
       "      \n",
       "      <td>\n",
       "        2.000000\n",
       "      </td>\n",
       "      \n",
       "      <td>\n",
       "        13.539175\n",
       "      </td>\n",
       "      \n",
       "      <td>\n",
       "        ...\n",
       "      </td>\n",
       "      \n",
       "      <td>\n",
       "        163.420500\n",
       "      </td>\n",
       "      \n",
       "      <td>\n",
       "        -6.161404\n",
       "      </td>\n",
       "      \n",
       "      <td>\n",
       "        5.000000\n",
       "      </td>\n",
       "      \n",
       "      </tr>\n",
       "      \n",
       "      <tr>\n",
       "      \n",
       "      <td>\n",
       "        5.000000\n",
       "      </td>\n",
       "      \n",
       "      <td>\n",
       "        10.000000\n",
       "      </td>\n",
       "      \n",
       "      <td>\n",
       "        26.478230\n",
       "      </td>\n",
       "      \n",
       "      <td>\n",
       "        ...\n",
       "      </td>\n",
       "      \n",
       "      <td>\n",
       "        100.929062\n",
       "      </td>\n",
       "      \n",
       "      <td>\n",
       "        -17.211790\n",
       "      </td>\n",
       "      \n",
       "      <td>\n",
       "        5.000000\n",
       "      </td>\n",
       "      \n",
       "      </tr>\n",
       "      \n",
       "      <tr>\n",
       "      \n",
       "      <td>\n",
       "        2.000000\n",
       "      </td>\n",
       "      \n",
       "      <td>\n",
       "        10.000000\n",
       "      </td>\n",
       "      \n",
       "      <td>\n",
       "        101.392875\n",
       "      </td>\n",
       "      \n",
       "      <td>\n",
       "        ...\n",
       "      </td>\n",
       "      \n",
       "      <td>\n",
       "        76.311743\n",
       "      </td>\n",
       "      \n",
       "      <td>\n",
       "        -23.397508\n",
       "      </td>\n",
       "      \n",
       "      <td>\n",
       "        13.000000\n",
       "      </td>\n",
       "      \n",
       "      </tr>\n",
       "      \n",
       "      <tr>\n",
       "      \n",
       "      <td>\n",
       "        3.000000\n",
       "      </td>\n",
       "      \n",
       "      <td>\n",
       "        14.000000\n",
       "      </td>\n",
       "      \n",
       "      <td>\n",
       "        77.765182\n",
       "      </td>\n",
       "      \n",
       "      <td>\n",
       "        ...\n",
       "      </td>\n",
       "      \n",
       "      <td>\n",
       "        103.689374\n",
       "      </td>\n",
       "      \n",
       "      <td>\n",
       "        -5.160128\n",
       "      </td>\n",
       "      \n",
       "      <td>\n",
       "        14.000000\n",
       "      </td>\n",
       "      \n",
       "      </tr>\n",
       "      \n",
       "      <tr>\n",
       "      \n",
       "      <td>\n",
       "        5.000000\n",
       "      </td>\n",
       "      \n",
       "      <td>\n",
       "        10.000000\n",
       "      </td>\n",
       "      \n",
       "      <td>\n",
       "        29.648657\n",
       "      </td>\n",
       "      \n",
       "      <td>\n",
       "        ...\n",
       "      </td>\n",
       "      \n",
       "      <td>\n",
       "        101.487776\n",
       "      </td>\n",
       "      \n",
       "      <td>\n",
       "        -18.278553\n",
       "      </td>\n",
       "      \n",
       "      <td>\n",
       "        7.000000\n",
       "      </td>\n",
       "      \n",
       "      </tr>\n",
       "      \n",
       "      <tr>\n",
       "      \n",
       "      <td>\n",
       "        2.000000\n",
       "      </td>\n",
       "      \n",
       "      <td>\n",
       "        13.000000\n",
       "      </td>\n",
       "      \n",
       "      <td>\n",
       "        -11.010872\n",
       "      </td>\n",
       "      \n",
       "      <td>\n",
       "        ...\n",
       "      </td>\n",
       "      \n",
       "      <td>\n",
       "        144.256417\n",
       "      </td>\n",
       "      \n",
       "      <td>\n",
       "        17.031742\n",
       "      </td>\n",
       "      \n",
       "      <td>\n",
       "        12.000000\n",
       "      </td>\n",
       "      \n",
       "      </tr>\n",
       "      \n",
       "      </tbody>\n",
       "    </table>\n",
       "    "
      ],
      "text/plain": [
       "R object with classes: ('data.frame',) mapped to:\n",
       "<DataFrame - Python:0x7f2ce5751448 / R:0x560eee3761b0>\n",
       "[FloatVector, FloatVector, FloatVector, FloatVector, ..., FloatVector, FloatVector, FloatVector, FloatVector]\n",
       "  Class: <class 'rpy2.robjects.vectors.FloatVector'>\n",
       "  R object with classes: ('numeric',) mapped to:\n",
       "<FloatVector - Python:0x7f2c9ec91348 / R:0x560ef0ff37e8>\n",
       "[2.000000, 5.000000, 2.000000, 3.000000, 5.000000, 2.000000]\n",
       "  User: <class 'rpy2.robjects.vectors.FloatVector'>\n",
       "  R object with classes: ('numeric',) mapped to:\n",
       "<FloatVector - Python:0x7f2c9ea96f48 / R:0x560ef0ff3858>\n",
       "[2.000000, 10.000000, 10.000000, 14.000000, 10.000000, 13.000000]\n",
       "  X0: <class 'rpy2.robjects.vectors.FloatVector'>\n",
       "  R object with classes: ('numeric',) mapped to:\n",
       "<FloatVector - Python:0x7f2c9e9c1bc8 / R:0x560ef0ff38c8>\n",
       "[13.539175, 26.478230, 101.392875, 77.765182, 29.648657, -11.010872]\n",
       "  Y0: <class 'rpy2.robjects.vectors.FloatVector'>\n",
       "  R object with classes: ('numeric',) mapped to:\n",
       "<FloatVector - Python:0x7f2c9e9c1048 / R:0x560ef0ff3938>\n",
       "[100.862577, 101.811661, 132.917637, 143.307604, 6.181318, 81.823565]\n",
       "...\n",
       "  X1: <class 'rpy2.robjects.vectors.FloatVector'>\n",
       "  R object with classes: ('numeric',) mapped to:\n",
       "<FloatVector - Python:0x7f2c9e9be288 / R:0x560ef08e54d8>\n",
       "[53.688362, 6.019811, 91.289284, 0.521881, 83.134731, 40.690642]\n",
       "  Y1: <class 'rpy2.robjects.vectors.FloatVector'>\n",
       "  R object with classes: ('numeric',) mapped to:\n",
       "<FloatVector - Python:0x7f2c9ec0c508 / R:0x560ef08e5548>\n",
       "[163.420500, 100.929062, 76.311743, 103.689374, 101.487776, 144.256417]\n",
       "  Z1: <class 'rpy2.robjects.vectors.FloatVector'>\n",
       "  R object with classes: ('numeric',) mapped to:\n",
       "<FloatVector - Python:0x7f2c9ec0c4c8 / R:0x560ef08e55b8>\n",
       "[-6.161404, -17.211790, -23.397508, -5.160128, -18.278553, 17.031742]\n",
       "  X2: <class 'rpy2.robjects.vectors.FloatVector'>\n",
       "  R object with classes: ('numeric',) mapped to:\n",
       "<FloatVector - Python:0x7f2c9ec0ca48 / R:0x560ef08e5628>\n",
       "[5.000000, 5.000000, 13.000000, 14.000000, 7.000000, 12.000000]"
      ]
     },
     "execution_count": 58,
     "metadata": {},
     "output_type": "execute_result"
    }
   ],
   "source": [
    "r_df_postures_clustered_2000.head()"
   ]
  },
  {
   "cell_type": "code",
   "execution_count": 59,
   "metadata": {},
   "outputs": [
    {
     "data": {
      "text/html": [
       "\n",
       "    <span>R/rpy2 DataFrame (6 x 28)</span>\n",
       "    <table>\n",
       "      <thead>\n",
       "        <tr>\n",
       "        \n",
       "          <th>Class</th>\n",
       "        \n",
       "          <th>User</th>\n",
       "        \n",
       "          <th>X0</th>\n",
       "        \n",
       "          <th>...</th>\n",
       "        \n",
       "          <th>Z7</th>\n",
       "        \n",
       "          <th>Cluster14</th>\n",
       "        \n",
       "          <th>Cluster5</th>\n",
       "        \n",
       "        </tr>\n",
       "      </thead>\n",
       "      <tbody>\n",
       "      \n",
       "      <tr>\n",
       "      \n",
       "      <td>\n",
       "        5.000000\n",
       "      </td>\n",
       "      \n",
       "      <td>\n",
       "        2.000000\n",
       "      </td>\n",
       "      \n",
       "      <td>\n",
       "        60.081388\n",
       "      </td>\n",
       "      \n",
       "      <td>\n",
       "        ...\n",
       "      </td>\n",
       "      \n",
       "      <td>\n",
       "        22.616605\n",
       "      </td>\n",
       "      \n",
       "      <td>\n",
       "        4.000000\n",
       "      </td>\n",
       "      \n",
       "      <td>\n",
       "        4.000000\n",
       "      </td>\n",
       "      \n",
       "      </tr>\n",
       "      \n",
       "      <tr>\n",
       "      \n",
       "      <td>\n",
       "        5.000000\n",
       "      </td>\n",
       "      \n",
       "      <td>\n",
       "        3.000000\n",
       "      </td>\n",
       "      \n",
       "      <td>\n",
       "        -13.240447\n",
       "      </td>\n",
       "      \n",
       "      <td>\n",
       "        ...\n",
       "      </td>\n",
       "      \n",
       "      <td>\n",
       "        -78.676064\n",
       "      </td>\n",
       "      \n",
       "      <td>\n",
       "        13.000000\n",
       "      </td>\n",
       "      \n",
       "      <td>\n",
       "        1.000000\n",
       "      </td>\n",
       "      \n",
       "      </tr>\n",
       "      \n",
       "      <tr>\n",
       "      \n",
       "      <td>\n",
       "        2.000000\n",
       "      </td>\n",
       "      \n",
       "      <td>\n",
       "        10.000000\n",
       "      </td>\n",
       "      \n",
       "      <td>\n",
       "        40.951414\n",
       "      </td>\n",
       "      \n",
       "      <td>\n",
       "        ...\n",
       "      </td>\n",
       "      \n",
       "      <td>\n",
       "        26.376296\n",
       "      </td>\n",
       "      \n",
       "      <td>\n",
       "        8.000000\n",
       "      </td>\n",
       "      \n",
       "      <td>\n",
       "        2.000000\n",
       "      </td>\n",
       "      \n",
       "      </tr>\n",
       "      \n",
       "      <tr>\n",
       "      \n",
       "      <td>\n",
       "        5.000000\n",
       "      </td>\n",
       "      \n",
       "      <td>\n",
       "        5.000000\n",
       "      </td>\n",
       "      \n",
       "      <td>\n",
       "        -3.408888\n",
       "      </td>\n",
       "      \n",
       "      <td>\n",
       "        ...\n",
       "      </td>\n",
       "      \n",
       "      <td>\n",
       "        39.283072\n",
       "      </td>\n",
       "      \n",
       "      <td>\n",
       "        9.000000\n",
       "      </td>\n",
       "      \n",
       "      <td>\n",
       "        4.000000\n",
       "      </td>\n",
       "      \n",
       "      </tr>\n",
       "      \n",
       "      <tr>\n",
       "      \n",
       "      <td>\n",
       "        3.000000\n",
       "      </td>\n",
       "      \n",
       "      <td>\n",
       "        14.000000\n",
       "      </td>\n",
       "      \n",
       "      <td>\n",
       "        52.922887\n",
       "      </td>\n",
       "      \n",
       "      <td>\n",
       "        ...\n",
       "      </td>\n",
       "      \n",
       "      <td>\n",
       "        -43.349219\n",
       "      </td>\n",
       "      \n",
       "      <td>\n",
       "        2.000000\n",
       "      </td>\n",
       "      \n",
       "      <td>\n",
       "        1.000000\n",
       "      </td>\n",
       "      \n",
       "      </tr>\n",
       "      \n",
       "      <tr>\n",
       "      \n",
       "      <td>\n",
       "        5.000000\n",
       "      </td>\n",
       "      \n",
       "      <td>\n",
       "        2.000000\n",
       "      </td>\n",
       "      \n",
       "      <td>\n",
       "        58.986275\n",
       "      </td>\n",
       "      \n",
       "      <td>\n",
       "        ...\n",
       "      </td>\n",
       "      \n",
       "      <td>\n",
       "        10.860258\n",
       "      </td>\n",
       "      \n",
       "      <td>\n",
       "        7.000000\n",
       "      </td>\n",
       "      \n",
       "      <td>\n",
       "        4.000000\n",
       "      </td>\n",
       "      \n",
       "      </tr>\n",
       "      \n",
       "      </tbody>\n",
       "    </table>\n",
       "    "
      ],
      "text/plain": [
       "R object with classes: ('data.frame',) mapped to:\n",
       "<DataFrame - Python:0x7f2c9ea96848 / R:0x560eeec47680>\n",
       "[FloatVector, FloatVector, FloatVector, FloatVector, ..., FloatVector, FloatVector, FloatVector, FloatVector]\n",
       "  Class: <class 'rpy2.robjects.vectors.FloatVector'>\n",
       "  R object with classes: ('numeric',) mapped to:\n",
       "<FloatVector - Python:0x7f2c9ea96b08 / R:0x560ef08e58c8>\n",
       "[5.000000, 5.000000, 2.000000, 5.000000, 3.000000, 5.000000]\n",
       "  User: <class 'rpy2.robjects.vectors.FloatVector'>\n",
       "  R object with classes: ('numeric',) mapped to:\n",
       "<FloatVector - Python:0x7f2c41c8c108 / R:0x560ef08e5938>\n",
       "[2.000000, 3.000000, 10.000000, 5.000000, 14.000000, 2.000000]\n",
       "  X0: <class 'rpy2.robjects.vectors.FloatVector'>\n",
       "  R object with classes: ('numeric',) mapped to:\n",
       "<FloatVector - Python:0x7f2ce567fc08 / R:0x560ef08e59a8>\n",
       "[60.081388, -13.240447, 40.951414, -3.408888, 52.922887, 58.986275]\n",
       "  Y0: <class 'rpy2.robjects.vectors.FloatVector'>\n",
       "  R object with classes: ('numeric',) mapped to:\n",
       "<FloatVector - Python:0x7f2c9ec8ee88 / R:0x560ef08e5a18>\n",
       "[104.027354, 91.631643, 90.707117, 87.841371, 141.363287, 57.813143]\n",
       "...\n",
       "  X1: <class 'rpy2.robjects.vectors.FloatVector'>\n",
       "  R object with classes: ('numeric',) mapped to:\n",
       "<FloatVector - Python:0x7f2c430e6888 / R:0x560ef08e6348>\n",
       "[96.258804, 63.161932, 80.846209, 88.937266, 41.737874, 104.939094]\n",
       "  Y1: <class 'rpy2.robjects.vectors.FloatVector'>\n",
       "  R object with classes: ('numeric',) mapped to:\n",
       "<FloatVector - Python:0x7f2c9e9c3108 / R:0x560ef08e63b8>\n",
       "[22.616605, -78.676064, 26.376296, 39.283072, -43.349219, 10.860258]\n",
       "  Z1: <class 'rpy2.robjects.vectors.FloatVector'>\n",
       "  R object with classes: ('numeric',) mapped to:\n",
       "<FloatVector - Python:0x7f2c41692808 / R:0x560ef08e6428>\n",
       "[4.000000, 13.000000, 8.000000, 9.000000, 2.000000, 7.000000]\n",
       "  X2: <class 'rpy2.robjects.vectors.FloatVector'>\n",
       "  R object with classes: ('numeric',) mapped to:\n",
       "<FloatVector - Python:0x7f2c4047a3c8 / R:0x560ef08e6498>\n",
       "[4.000000, 1.000000, 2.000000, 4.000000, 1.000000, 4.000000]"
      ]
     },
     "execution_count": 59,
     "metadata": {},
     "output_type": "execute_result"
    }
   ],
   "source": [
    "r_df_postures_clustered_5_2000.head()"
   ]
  },
  {
   "cell_type": "markdown",
   "metadata": {},
   "source": [
    "The basic idea behind cluster partitioning is to learn clusters such that the total intra-cluster variation is minimized. In order to find the number of clusters (k) such that the total within-cluster sum of square (wss) is minimized, we compute k-means clustering for different values of k. For each k, we calculate and plot wss. The location of a bend (elbow) in the plot is generally considered as an indicator of the appropriate number of clusters. This process is wrapped up in a single function (fviz_nbclust) usd below. We pass 2000 random samples from our dataset, considering only the coordinates features (X0, Y0, Z0, ..., X7, Y7, Z7).\n",
    "\n",
    "As we see, identifying the bend depends on personal flavor here. We think that it happens approximtely at **k=4** or 5."
   ]
  },
  {
   "cell_type": "code",
   "execution_count": 21,
   "metadata": {},
   "outputs": [
    {
     "data": {
      "image/png": "[encoded data removed]"
     },
     "metadata": {},
     "output_type": "display_data"
    }
   ],
   "source": [
    "%%R -i r_df_postures_clustered_5_2000\n",
    "fviz_nbclust(r_df_postures_clustered_5_2000[,c(3:26)], kmeans, method=\"wss\", nstart = 46, k.max=15)"
   ]
  },
  {
   "cell_type": "markdown",
   "metadata": {},
   "source": [
    "**(b) Use the average silhouette to evaluate the choice of the number of clusters for k-means clustering with $k \\in \\{1,2,...,15\\}$. Plot the results.**"
   ]
  },
  {
   "cell_type": "markdown",
   "metadata": {},
   "source": [
    "The average silhouette approach measures the quality of clustering by finding how well each data point lies within its cluster. A high average silhouette width indicates a good clustering. We compute the average silhouette of points for different values of k. The optimal number of clusters k is the one that maximizes the average silhouette. By using the function fviz_nbclust below, we find k=2 or 3 on 2000 random data points."
   ]
  },
  {
   "cell_type": "code",
   "execution_count": 83,
   "metadata": {
    "scrolled": true
   },
   "outputs": [
    {
     "data": {
      "image/png": "[encoded data removed]"
     },
     "metadata": {},
     "output_type": "display_data"
    }
   ],
   "source": [
    "%%R -i r_df_postures_clustered_5_2000\n",
    "fviz_nbclust(r_df_postures_clustered_5_2000[,c(3:26)], kmeans, method=\"silhouette\", nstart = 46, k.max=15)"
   ]
  },
  {
   "cell_type": "markdown",
   "metadata": {},
   "source": [
    "**(c) Use the gap statistic to evaluate the choice of the number of clusters for k-means clustering with $k \\in \\{1,2,..,15\\}$. Plot the results.**"
   ]
  },
  {
   "cell_type": "markdown",
   "metadata": {},
   "source": [
    "The gap statistic compares the total intracluster variation for different values of k with their expected values under null reference distribution of the data (i.e. a distribution with no obvious clustering, after random permutation of column values). The function fviz_nbclust below suggests k=1 as th optimal number of clusters. If we are maximizing the gap statistic alone, then we should choose the model with 14 clusters. Assuming that that plot is just going to continue to increase, doing this would be less useful. The authors of the Gap statistics suggested to identify the point at which the rate of increase of the gap statistic begins to \"slow down\". In our case it is around **k=4**."
   ]
  },
  {
   "cell_type": "code",
   "execution_count": 86,
   "metadata": {},
   "outputs": [
    {
     "data": {
      "text/plain": [
       "Clustering k = 1,2,..., K.max (= 15): .. done\n",
       "Bootstrapping, b = 1,2,..., B (= 100)  [one \".\" per sample]:\n",
       ".................................................. 50 \n",
       ".................................................. 100 \n"
      ]
     },
     "metadata": {},
     "output_type": "display_data"
    },
    {
     "data": {
      "image/png": "[encoded data removed]"
     },
     "metadata": {},
     "output_type": "display_data"
    }
   ],
   "source": [
    "%%R -i r_df_postures_clustered_5_2000\n",
    "fviz_nbclust(r_df_postures_clustered_5_2000[,c(3:26)], kmeans, method=\"gap_stat\", nstart = 5, k.max=15)"
   ]
  },
  {
   "cell_type": "markdown",
   "metadata": {},
   "source": [
    "**(d) After analyzing the plots produced by all three of these measures, discuss the number of clusters that we think is the best fit for this dataset. Defend the answer with evidence from the previous parts of this question, the three graphs produced here, and what we surmise about this dataset.**"
   ]
  },
  {
   "cell_type": "markdown",
   "metadata": {},
   "source": [
    "Most of these approaches suggest 4 as the number of optimal clusters, we can perform the final analysis and extract the results using **4 clusters**. Although the silhouette for 4 clusters has a width that is a bit less than the silhouette for 2 clusters, we obtained the best result with 4 clusters according to the Gap statistic and the elbow method.\n",
    "\n",
    "4 clusters makes sense to us because the data is more representative for 4 out of 5 postures (see bar plot below). The total number of data points recorded for the fist posture (class 1) is significantly low compared to the data for the remaining features. The fist data points most probably do not exhibit enough similarity to be grouped into a disctinct cluster, or they are not close enough to the centroid of the fist cluster, causing the average silhouette of that cluster to be low. \n",
    "\n",
    "It is worth noticing, that the total number of frames recorded for the flat hand (stop) posture is the highest. It is a posture where all markers should be visible, with less obstruction, assuming that the user is able to hold the hand vertically. K-means might get into trouble when distinguishing the posture 3 (pointing with 1 finger) from 4 (pointing with two fingers).  \n",
    "\n",
    "We can conclude that our dataset is unbalanced both with regard to class and with regard to users. The cleaning operation removed valuable information which is now missing for a more pure clustering. We can postulate that users 4 and 7 most probably generated a large number of outliers. \n",
    "\n",
    "From the user identification clustering performed in the previous question, we can also add that the users' way of executing the postures is very similar; they probably used the same glove, making it hard to assign the records to users."
   ]
  },
  {
   "cell_type": "code",
   "execution_count": 26,
   "metadata": {},
   "outputs": [
    {
     "data": {
      "image/png": "[encoded data removed]",
      "text/plain": [
       "<Figure size 504x216 with 1 Axes>"
      ]
     },
     "metadata": {
      "needs_background": "light"
     },
     "output_type": "display_data"
    }
   ],
   "source": [
    "fig, ax = plt.subplots(1,1,figsize=(7,3))\n",
    "df_postures_per_class = df_postures.groupby('Class').agg('count')['X0'].reset_index()\n",
    "sns.barplot(data=df_postures_per_class, x='Class', y='X0', ax=ax)\n",
    "ax.set_title('# frames per class')\n",
    "ax.set_ylabel('count');"
   ]
  },
  {
   "cell_type": "markdown",
   "metadata": {},
   "source": [
    "Below we perform k-means clustering with 4 clusters."
   ]
  },
  {
   "cell_type": "code",
   "execution_count": 23,
   "metadata": {},
   "outputs": [],
   "source": [
    "df_postures_clustered_4 = get_kmeans(df_postures_clustered_5, cols_features=cols_features, cols_to_scale=[], \n",
    "           nb_clusters=4, nb_configs=46, cluster_col_name='Cluster4', verbose=False)"
   ]
  },
  {
   "cell_type": "code",
   "execution_count": 43,
   "metadata": {},
   "outputs": [
    {
     "data": {
      "text/html": [
       "<div>\n",
       "<style scoped>\n",
       "    .dataframe tbody tr th:only-of-type {\n",
       "        vertical-align: middle;\n",
       "    }\n",
       "\n",
       "    .dataframe tbody tr th {\n",
       "        vertical-align: top;\n",
       "    }\n",
       "\n",
       "    .dataframe thead th {\n",
       "        text-align: right;\n",
       "    }\n",
       "</style>\n",
       "<table border=\"1\" class=\"dataframe\">\n",
       "  <thead>\n",
       "    <tr style=\"text-align: right;\">\n",
       "      <th></th>\n",
       "      <th>Class</th>\n",
       "      <th>User</th>\n",
       "      <th>X0</th>\n",
       "      <th>Y0</th>\n",
       "      <th>Z0</th>\n",
       "      <th>X1</th>\n",
       "      <th>Y1</th>\n",
       "      <th>Z1</th>\n",
       "      <th>X2</th>\n",
       "      <th>Y2</th>\n",
       "      <th>...</th>\n",
       "      <th>Z5</th>\n",
       "      <th>X6</th>\n",
       "      <th>Y6</th>\n",
       "      <th>Z6</th>\n",
       "      <th>X7</th>\n",
       "      <th>Y7</th>\n",
       "      <th>Z7</th>\n",
       "      <th>Cluster14</th>\n",
       "      <th>Cluster5</th>\n",
       "      <th>Cluster4</th>\n",
       "    </tr>\n",
       "  </thead>\n",
       "  <tbody>\n",
       "    <tr>\n",
       "      <th>0</th>\n",
       "      <td>1</td>\n",
       "      <td>3</td>\n",
       "      <td>72.692270</td>\n",
       "      <td>50.023771</td>\n",
       "      <td>-72.963253</td>\n",
       "      <td>-11.593076</td>\n",
       "      <td>81.234142</td>\n",
       "      <td>-28.450210</td>\n",
       "      <td>51.729995</td>\n",
       "      <td>82.844469</td>\n",
       "      <td>...</td>\n",
       "      <td>-32.045120</td>\n",
       "      <td>7.732511</td>\n",
       "      <td>25.135415</td>\n",
       "      <td>10.723395</td>\n",
       "      <td>55.943868</td>\n",
       "      <td>19.513363</td>\n",
       "      <td>-70.380124</td>\n",
       "      <td>7</td>\n",
       "      <td>1</td>\n",
       "      <td>12</td>\n",
       "    </tr>\n",
       "    <tr>\n",
       "      <th>1</th>\n",
       "      <td>1</td>\n",
       "      <td>3</td>\n",
       "      <td>85.648015</td>\n",
       "      <td>73.561022</td>\n",
       "      <td>-71.838316</td>\n",
       "      <td>31.595034</td>\n",
       "      <td>90.217896</td>\n",
       "      <td>-47.246688</td>\n",
       "      <td>52.230858</td>\n",
       "      <td>82.361548</td>\n",
       "      <td>...</td>\n",
       "      <td>-32.037539</td>\n",
       "      <td>56.308829</td>\n",
       "      <td>18.774768</td>\n",
       "      <td>-70.996523</td>\n",
       "      <td>6.913199</td>\n",
       "      <td>24.967750</td>\n",
       "      <td>9.697553</td>\n",
       "      <td>7</td>\n",
       "      <td>5</td>\n",
       "      <td>12</td>\n",
       "    </tr>\n",
       "    <tr>\n",
       "      <th>2</th>\n",
       "      <td>1</td>\n",
       "      <td>3</td>\n",
       "      <td>-10.346977</td>\n",
       "      <td>81.751331</td>\n",
       "      <td>-25.587870</td>\n",
       "      <td>33.414886</td>\n",
       "      <td>91.985986</td>\n",
       "      <td>-41.364447</td>\n",
       "      <td>5.625100</td>\n",
       "      <td>24.523349</td>\n",
       "      <td>...</td>\n",
       "      <td>-67.462052</td>\n",
       "      <td>56.807276</td>\n",
       "      <td>20.950953</td>\n",
       "      <td>-68.375831</td>\n",
       "      <td>11.602112</td>\n",
       "      <td>89.400536</td>\n",
       "      <td>-29.062279</td>\n",
       "      <td>14</td>\n",
       "      <td>3</td>\n",
       "      <td>9</td>\n",
       "    </tr>\n",
       "    <tr>\n",
       "      <th>3</th>\n",
       "      <td>2</td>\n",
       "      <td>3</td>\n",
       "      <td>63.554969</td>\n",
       "      <td>98.490988</td>\n",
       "      <td>11.165920</td>\n",
       "      <td>49.159831</td>\n",
       "      <td>154.330730</td>\n",
       "      <td>32.004168</td>\n",
       "      <td>92.793124</td>\n",
       "      <td>137.143202</td>\n",
       "      <td>...</td>\n",
       "      <td>-71.713081</td>\n",
       "      <td>12.660462</td>\n",
       "      <td>95.077144</td>\n",
       "      <td>29.664434</td>\n",
       "      <td>84.110115</td>\n",
       "      <td>151.545456</td>\n",
       "      <td>16.891147</td>\n",
       "      <td>11</td>\n",
       "      <td>3</td>\n",
       "      <td>11</td>\n",
       "    </tr>\n",
       "    <tr>\n",
       "      <th>4</th>\n",
       "      <td>2</td>\n",
       "      <td>3</td>\n",
       "      <td>80.873812</td>\n",
       "      <td>93.722537</td>\n",
       "      <td>-4.988816</td>\n",
       "      <td>63.572103</td>\n",
       "      <td>98.476638</td>\n",
       "      <td>11.242908</td>\n",
       "      <td>49.142700</td>\n",
       "      <td>154.347050</td>\n",
       "      <td>...</td>\n",
       "      <td>35.349247</td>\n",
       "      <td>92.942044</td>\n",
       "      <td>137.182817</td>\n",
       "      <td>1.297511</td>\n",
       "      <td>35.480104</td>\n",
       "      <td>99.739019</td>\n",
       "      <td>22.802243</td>\n",
       "      <td>9</td>\n",
       "      <td>4</td>\n",
       "      <td>8</td>\n",
       "    </tr>\n",
       "  </tbody>\n",
       "</table>\n",
       "<p>5 rows × 29 columns</p>\n",
       "</div>"
      ],
      "text/plain": [
       "   Class  User         X0         Y0         Z0         X1          Y1  \\\n",
       "0      1     3  72.692270  50.023771 -72.963253 -11.593076   81.234142   \n",
       "1      1     3  85.648015  73.561022 -71.838316  31.595034   90.217896   \n",
       "2      1     3 -10.346977  81.751331 -25.587870  33.414886   91.985986   \n",
       "3      2     3  63.554969  98.490988  11.165920  49.159831  154.330730   \n",
       "4      2     3  80.873812  93.722537  -4.988816  63.572103   98.476638   \n",
       "\n",
       "          Z1         X2          Y2    ...            Z5         X6  \\\n",
       "0 -28.450210  51.729995   82.844469    ...    -32.045120   7.732511   \n",
       "1 -47.246688  52.230858   82.361548    ...    -32.037539  56.308829   \n",
       "2 -41.364447   5.625100   24.523349    ...    -67.462052  56.807276   \n",
       "3  32.004168  92.793124  137.143202    ...    -71.713081  12.660462   \n",
       "4  11.242908  49.142700  154.347050    ...     35.349247  92.942044   \n",
       "\n",
       "           Y6         Z6         X7          Y7         Z7  Cluster14  \\\n",
       "0   25.135415  10.723395  55.943868   19.513363 -70.380124          7   \n",
       "1   18.774768 -70.996523   6.913199   24.967750   9.697553          7   \n",
       "2   20.950953 -68.375831  11.602112   89.400536 -29.062279         14   \n",
       "3   95.077144  29.664434  84.110115  151.545456  16.891147         11   \n",
       "4  137.182817   1.297511  35.480104   99.739019  22.802243          9   \n",
       "\n",
       "   Cluster5  Cluster4  \n",
       "0         1        12  \n",
       "1         5        12  \n",
       "2         3         9  \n",
       "3         3        11  \n",
       "4         4         8  \n",
       "\n",
       "[5 rows x 29 columns]"
      ]
     },
     "execution_count": 43,
     "metadata": {},
     "output_type": "execute_result"
    }
   ],
   "source": [
    "df_postures_clustered_4.head()"
   ]
  },
  {
   "cell_type": "markdown",
   "metadata": {},
   "source": [
    "We plot the clusters for 2000 random data points."
   ]
  },
  {
   "cell_type": "code",
   "execution_count": 24,
   "metadata": {},
   "outputs": [],
   "source": [
    "r_df_postures_clustered_4_2000 = get_random_postures(df_postures_clustered_4, nb_samples=2000, random_seed=109)"
   ]
  },
  {
   "cell_type": "code",
   "execution_count": 25,
   "metadata": {},
   "outputs": [
    {
     "data": {
      "image/png": "[encoded data removed]"
     },
     "metadata": {},
     "output_type": "display_data"
    }
   ],
   "source": [
    "%%R -i r_df_postures_clustered_4_2000\n",
    "library(factoextra)\n",
    "o = list(cluster = r_df_postures_clustered_4_2000[,c(29)], data = r_df_postures_clustered_4_2000)\n",
    "fviz_cluster(object=o, geom = \"point\")"
   ]
  },
  {
   "cell_type": "markdown",
   "metadata": {},
   "source": [
    "The Gini coefficients are slightly worse than those obtained with 5 clusters."
   ]
  },
  {
   "cell_type": "code",
   "execution_count": 77,
   "metadata": {},
   "outputs": [
    {
     "name": "stdout",
     "output_type": "stream",
     "text": [
      "14-Clusters' Gini Coefs\n",
      "[0.9, 0.896, 0.901, 0.807, 0.837, 0.881, 0.846, 0.834, 0.895, 0.894, 0.897, 0.891, 0.892, 0.899]\n",
      "average: 0.876\n",
      "5-Clusters' Gini Coefs\n",
      "[0.727, 0.405, 0.738, 0.285, 0.734]\n",
      "average: 0.578\n",
      "4-Clusters' Gini Coefs\n",
      "[0.836, 0.321, 0.819, 0.978]\n",
      "average: 0.738\n"
     ]
    }
   ],
   "source": [
    "gini_coefs_4, p_squared_4 = get_gini_coefs(df_postures_clustered_4, label_col_name='Class', cluster_col_name='Cluster4', cluster_values=range(1,5,1))\n",
    "print(\"14-Clusters' Gini Coefs\")\n",
    "print(gini_coefs)\n",
    "print(\"average: {0:.3f}\".format(sum(gini_coefs)/len(gini_coefs)))\n",
    "print(\"5-Clusters' Gini Coefs\")\n",
    "print(gini_coefs_5)\n",
    "print(\"average: {0:.3f}\".format(sum(gini_coefs_5)/len(gini_coefs_5)))\n",
    "print(\"4-Clusters' Gini Coefs\")\n",
    "print(gini_coefs_4)\n",
    "print(\"average: {0:.3f}\".format(sum(gini_coefs_4)/len(gini_coefs_4)))\n"
   ]
  },
  {
   "cell_type": "markdown",
   "metadata": {},
   "source": [
    "However the entropy is the best when using 4 clusters. We achieve better purity."
   ]
  },
  {
   "cell_type": "code",
   "execution_count": 78,
   "metadata": {},
   "outputs": [
    {
     "name": "stdout",
     "output_type": "stream",
     "text": [
      "14-Clusters' Entropys\n",
      "[2.404, 2.375, 2.428, 1.964, 2.008, 2.296, 2.065, 1.99, 2.389, 2.377, 2.385, 2.316, 2.336, 2.404]\n",
      "average: 2.267\n",
      "5-Clusters' Entropys\n",
      "[1.342, 0.797, 1.361, 0.563, 1.355]\n",
      "average: 1.084\n",
      "4-Clusters' Entropys\n",
      "[1.016, 0.34, 0.986, 0.569]\n",
      "average: 0.728\n"
     ]
    }
   ],
   "source": [
    "entropys_4 = get_entropys(df_postures_clustered_4, label_col_name='Class', cluster_col_name='Cluster4', cluster_values=range(1,5,1))\n",
    "print(\"14-Clusters' Entropys\")\n",
    "print(entropys)\n",
    "print(\"average: {0:.3f}\".format(sum(entropys)/len(entropys)))\n",
    "print(\"5-Clusters' Entropys\")\n",
    "print(entropys_5)\n",
    "print(\"average: {0:.3f}\".format(sum(entropys_5)/len(entropys_5)))\n",
    "print(\"4-Clusters' Entropys\")\n",
    "print(entropys_4)\n",
    "print(\"average: {0:.3f}\".format(sum(entropys_4)/len(entropys_4)))"
   ]
  },
  {
   "cell_type": "markdown",
   "metadata": {},
   "source": [
    "The silhouette plot below shows for each cluster: the number of data points is reasonably kind of uniformly distributed among clusters, each horizontal line corresponds to a data point in the cluster. The length of the lines corresponds to silhouette width, which is the mean similarity of each element to its own cluster minus the mean similarity to the next most similar cluster. The red dashed line is the overall average. We observe that a significant amount of points are below average in 3 of 4 clusters. These points don't feel like they are so similar to whom they are grouped with, versus someone else. Although they are more similar to points in their cluster than to points outside, but it might be that if we introduce a new cluster or take one away, we might see a better performance."
   ]
  },
  {
   "cell_type": "code",
   "execution_count": 79,
   "metadata": {},
   "outputs": [
    {
     "data": {
      "text/plain": [
       "  cluster size ave.sil.width\n",
       "1       1  413          0.05\n",
       "2       2  540          0.12\n",
       "3       3  457          0.06\n",
       "4       4  590          0.05\n"
      ]
     },
     "metadata": {},
     "output_type": "display_data"
    },
    {
     "data": {
      "image/png": "[encoded data removed]"
     },
     "metadata": {},
     "output_type": "display_data"
    }
   ],
   "source": [
    "%%R -i r_df_postures_clustered_4_2000\n",
    "library(cluster)\n",
    "sil = silhouette(r_df_postures_clustered_4_2000[,c(29)], dist(r_df_postures_clustered_4_2000[,c(3:26)]))\n",
    "fviz_silhouette(sil)"
   ]
  },
  {
   "cell_type": "markdown",
   "metadata": {},
   "source": [
    "The silhouette plot with 5 clusters is given below."
   ]
  },
  {
   "cell_type": "code",
   "execution_count": 83,
   "metadata": {},
   "outputs": [
    {
     "data": {
      "text/plain": [
       "  cluster size ave.sil.width\n",
       "1       1  381          0.06\n",
       "2       2  460          0.05\n",
       "3       3  325          0.06\n",
       "4       4  465          0.12\n",
       "5       5  369          0.06\n"
      ]
     },
     "metadata": {},
     "output_type": "display_data"
    },
    {
     "data": {
      "image/png": "[encoded data removed]"
     },
     "metadata": {},
     "output_type": "display_data"
    }
   ],
   "source": [
    "%%R -i r_df_postures_clustered_5_2000\n",
    "library(cluster)\n",
    "sil = silhouette(r_df_postures_clustered_5_2000[,c(28)], dist(r_df_postures_clustered_5_2000[,c(3:26)]))\n",
    "fviz_silhouette(sil)"
   ]
  },
  {
   "cell_type": "markdown",
   "metadata": {},
   "source": [
    "The silhouette plot with 14 clusters is given below."
   ]
  },
  {
   "cell_type": "code",
   "execution_count": 26,
   "metadata": {},
   "outputs": [
    {
     "data": {
      "image/png": "[encoded data removed]"
     },
     "metadata": {},
     "output_type": "display_data"
    }
   ],
   "source": [
    "%%R -i r_df_postures_clustered_2000\n",
    "library(cluster)\n",
    "sil = silhouette(r_df_postures_clustered_2000[,c(27)], dist(r_df_postures_clustered_2000[,c(3:26)]))\n",
    "fviz_silhouette(sil)"
   ]
  },
  {
   "cell_type": "markdown",
   "metadata": {},
   "source": [
    "**(e) Hierarchical clustering. Run agglomerative clustering (using Ward's method), and plot the result using a dendrogram. Interpret the results.**"
   ]
  },
  {
   "cell_type": "markdown",
   "metadata": {},
   "source": [
    "From bottom-up, agglomerative clustering starts with few data points and sticks them together into bigger and bigger groups. The y-axis is the total within-cluster sum of square and indicate how high value we would accept in order to split the data into 1, 2, 3, ... clusters. If we have 1 point per cluster, the height is zero. If we have all points in 1 cluster, the height is the highest. The heigh is a kind of loss, or price we pay with decreasing number of clusters. Around 6000 we have 5 clusters. Around 8000 we reduce to 4 clusters. 2 clusters cost ca. 12000.\n",
    "\n",
    "It is worth observing that it takes a little loss to go from 14 clusters (height ca. 3000) to less, e.g. to 9 clusters (heigh ca. 4000). We also see that the region with 5 clusters, the region with 4 clusters, the region with 3 clusters and the region with 2 clusters are almost equally large. "
   ]
  },
  {
   "cell_type": "markdown",
   "metadata": {},
   "source": [
    "**Agglomerative clustering with full dataset**"
   ]
  },
  {
   "cell_type": "code",
   "execution_count": 88,
   "metadata": {},
   "outputs": [],
   "source": [
    "r_df_postures = get_random_postures(df_postures, nb_samples=df_postures.shape[0], random_seed=109)"
   ]
  },
  {
   "cell_type": "code",
   "execution_count": 89,
   "metadata": {},
   "outputs": [
    {
     "data": {
      "image/png": "[encoded data removed]"
     },
     "metadata": {},
     "output_type": "display_data"
    }
   ],
   "source": [
    "%%R -i r_df_postures\n",
    "stacked_cluster = hclust(dist(r_df_postures[,c(3:26)]), method = \"ward.D\")\n",
    "plot(stacked_cluster)"
   ]
  },
  {
   "cell_type": "markdown",
   "metadata": {},
   "source": [
    "**Agglomerative clustering with 2000 random samples**"
   ]
  },
  {
   "cell_type": "code",
   "execution_count": 80,
   "metadata": {},
   "outputs": [
    {
     "data": {
      "image/png": "[encoded data removed]"
     },
     "metadata": {},
     "output_type": "display_data"
    }
   ],
   "source": [
    "%%R -i r_df_postures_clustered_4_2000\n",
    "stacked_cluster = hclust(dist(r_df_postures_clustered_4_2000[,c(3:26)]), method = \"ward.D\")\n",
    "plot(stacked_cluster)"
   ]
  },
  {
   "cell_type": "markdown",
   "metadata": {},
   "source": [
    "## Model-Free TD Learning \n",
    "\n",
    "\n",
    "In this part we are going to work with OpenAIgym's FrozenLake environment. The details of the environment can be found in the link https://gym.openai.com/envs/FrozenLake-v0/. \n",
    "\n",
    "\n",
    "Winter is here. We and the friends were tossing around a frisbee at the park when we made a wild throw that left the frisbee out in the middle of the lake. The water is mostly frozen, but there are a few holes where the ice has melted. If we step into one of those holes, we'll fall into the freezing water. At this time, there's an international frisbee shortage, so it's absolutely imperative that we navigate across the lake and retrieve the disc. \n",
    "\n",
    "The agent controls the movement of a character in a grid world. Some tiles of the grid are walkable, and others lead to the agent falling into the water. Additionally, the movement direction of the agent is uncertain and only partially depends on the chosen direction. The agent is rewarded for finding a walkable path to a goal tile.\n",
    "\n",
    "The surface is described using a grid like the following:\n",
    "\n",
    "- S: starting point, safe\n",
    "- F: frozen surface, safe\n",
    "- H: hole, fall to the doom\n",
    "- G: goal, where the frisbee is located\n",
    "\n",
    "SFFF  <br> \n",
    "FHFH <br> \n",
    "FFFH  <br> \n",
    "HFFG <br> \n",
    "\n",
    "Expected actions are Left(0), Right(1), Down(2), Up(3). \n",
    "\n",
    "The episode ends when we reach the goal or fall in a hole. We receive a reward of 1 if we reach the goal, and zero otherwise.\n"
   ]
  },
  {
   "cell_type": "code",
   "execution_count": 32,
   "metadata": {},
   "outputs": [],
   "source": [
    "if 'FrozenLakeNotSlippery-v0' in gym.envs.registry.env_specs:\n",
    "    del gym.envs.registry.env_specs['FrozenLakeNotSlippery-v0']\n",
    "register(id='FrozenLakeNotSlippery-v0',\n",
    "    entry_point='gym.envs.toy_text:FrozenLakeEnv',\n",
    "    kwargs={'map_name' : '4x4', 'is_slippery': False},\n",
    "    max_episode_steps=100,\n",
    "    reward_threshold=0.8196, # optimum = .8196\n",
    ")"
   ]
  },
  {
   "cell_type": "code",
   "execution_count": 31,
   "metadata": {},
   "outputs": [],
   "source": [
    "if 'FrozenLake8x8NotSlippery-v0' in gym.envs.registry.env_specs:\n",
    "    del gym.envs.registry.env_specs['FrozenLake8x8NotSlippery-v0']\n",
    "register(\n",
    "    id='FrozenLake8x8NotSlippery-v0',\n",
    "    entry_point='gym.envs.toy_text:FrozenLakeEnv',\n",
    "    kwargs={'map_name' : '8x8', 'is_slippery': False},\n",
    "    max_episode_steps=100,\n",
    "    reward_threshold=0.8196, # optimum = .8196\n",
    ")"
   ]
  },
  {
   "cell_type": "markdown",
   "metadata": {},
   "source": [
    "Throughout the project, use only the environments we registered in the previous cells:\n",
    "- `FrozenLake8x8NotSlippery-v0`\n",
    "- `FrozenLakeNotSlippery-v0` \n",
    "\n",
    "Even though the original problem description has slippery environment, we are working in a non-slippery environment. In our environment, if we go right, we only go right whereas in the original environment, if we intend to go right, we can go right, up or down with 1/3 probability.\n",
    "\n"
   ]
  },
  {
   "cell_type": "markdown",
   "metadata": {},
   "source": [
    "### Define the MDP\n",
    "\n",
    "\n",
    "\n"
   ]
  },
  {
   "cell_type": "markdown",
   "metadata": {},
   "source": [
    "**1. Define the MDP using the information from the link provided for FrozenLake environment. Use standard notations wherever possible. Defining the MDP usually means that we formally define the state space, action space and reward space, the absorbing states and discounts.**"
   ]
  },
  {
   "cell_type": "markdown",
   "metadata": {},
   "source": [
    "\n",
    "- *State.* It is a part of the environment, a numeric representation of what the agent is observing at a particular moment of time in the environment, the board state of lake. Here, S is the starting point, G is the goal, F is the solid ice where the agent can stand and H is the hole where if the agent goes, it falls down. We have 16 states in a 4x4 grid environment, or 64 states in a 8x8 environment.\n",
    "\n",
    "- *Actions.* The agent has 4 possible moves which are represented in the environment as 0, 1, 2, 3 for left, right, down, up respectively.\n",
    "\n",
    "- *State transition model.* It describes how the environment state changes when the agent performs an action depending on the current state. 'Left' moves the agent 1 tile to the left or keeps it at the current position if the agent is on the left border, 'right' moves it 1 tile to the right or keeps it at the current position if the agent is on the right border, 'up' moves it 1 tile up or keeps it at the current position if the agent is on the top border, 'down' moves it 1 tile down or keeps it at the current position if the agent is on the bottom border.\n",
    "\n",
    "- *Reward.* For every state F, the agent gets 0 reward, for state H it gets -1 reward as in state H the agent will die and upon reaching the goal, the agent gets +1 reward.\n",
    "\n",
    "- *Discount.* A factor [0 to 1] that controls the importance of future rewards. It prevents the total reward from going to infinity. It also models the agent behavior when the agent prefers immediate rewards than rewards that are potentially received far away in the future. \n",
    "\n",
    "- *Value*. The value of a state is the expected long-term return with discount for the state.\n",
    "\n",
    "- *Deterministic environment.* Both state transition model and reward model are deterministic functions. We are working in a non-slippery environment. If the agent take the action 'right', it goes right with probability 1.\n",
    "\n",
    "- *Policy (π).* The strategy that the agent employs to determine next action. Among all the policies taken, the optimal policy is the one that optimizes to maximize the amount of reward received or expected to receive over a lifetime.\n",
    "\n",
    "- *Episode.* It starts when the agent is on the starting tile and ends when the agent falls into a hole or reaches the goal tile.\n",
    "\n",
    "\n"
   ]
  },
  {
   "cell_type": "markdown",
   "metadata": {},
   "source": [
    "**2. Also justify why this problem is a MDP (i.e. justify the state representation and its corresponding Markovianity).**"
   ]
  },
  {
   "cell_type": "markdown",
   "metadata": {},
   "source": [
    "The *agent* controls the movement of a character in a grid world made of tiles in a grid. This is a *fully observable environment*. This is a Markov process, since the future tile is independent of the past tiles given the present tile (a sequence of random states following the Markov property). The current state encapsulates all that is needed to decide the future actions, no memory needed. Each timestep, the agent is in a state, it chooses an action (leading to a next state with a certain probability), and the environment returns an observation and a reward.  Adding reward function and discount factor into Markov process gives Markov Reward Process. By including the set of actions, we obtain a *Markov Decision Process (MDP)*."
   ]
  },
  {
   "cell_type": "markdown",
   "metadata": {},
   "source": [
    "### Value and Policy Iteration\n",
    "\n",
    "The aim in this problem is to reach the goal from S to G. Let us assume that we know our transition model (right - one step right, left -one step left, up - one step up, down - one step down. If an action is not possible from a spot, we remain there) In these environments, reaching the goal (G) with fetch us a reward of +1 and terminate the episode. Reaching any Hole (H) would give us 0 reward and terminate the episode."
   ]
  },
  {
   "cell_type": "markdown",
   "metadata": {},
   "source": [
    "**1. Write code to perform *value iteration* (starting from zero value assignment) and then, calculate optimal value function and thus calculate the subsequent policy induced by the value function. Show the value function and policy using heat map and arrow marks (to indicate direction) on each of the 4\\*4 or 8\\*8 grid cells.**"
   ]
  },
  {
   "cell_type": "markdown",
   "metadata": {},
   "source": [
    "The agent can (offline) plan its actions given knowledge about the environment before interacting with it."
   ]
  },
  {
   "cell_type": "markdown",
   "metadata": {},
   "source": [
    "Let's first do some random steps in the game to see how the game looks like."
   ]
  },
  {
   "cell_type": "code",
   "execution_count": 33,
   "metadata": {},
   "outputs": [],
   "source": [
    "def simulate_frozen_lake(env = gym.make('FrozenLakeNotSlippery-v0'), nb_trials=10):\n",
    "    rew_tot=0\n",
    "    obs= env.reset()\n",
    "    env.render()\n",
    "    for _ in range(nb_trials+1):\n",
    "        action = env.action_space.sample() # select a random action\n",
    "        obs, rew, done, info = env.step(action) # perform the action\n",
    "        rew_tot = rew_tot + rew # calculate the total reward\n",
    "        env.render() # display the environment\n",
    "    print(\"Reward: %r\" % rew_tot)  # print the total reward\n"
   ]
  },
  {
   "cell_type": "code",
   "execution_count": 34,
   "metadata": {},
   "outputs": [
    {
     "name": "stdout",
     "output_type": "stream",
     "text": [
      "\n",
      "\u001b[41mS\u001b[0mFFFFFFF\n",
      "FFFFFFFF\n",
      "FFFHFFFF\n",
      "FFFFFHFF\n",
      "FFFHFFFF\n",
      "FHHFFFHF\n",
      "FHFFHFHF\n",
      "FFFHFFFG\n",
      "  (Right)\n",
      "S\u001b[41mF\u001b[0mFFFFFF\n",
      "FFFFFFFF\n",
      "FFFHFFFF\n",
      "FFFFFHFF\n",
      "FFFHFFFF\n",
      "FHHFFFHF\n",
      "FHFFHFHF\n",
      "FFFHFFFG\n",
      "  (Down)\n",
      "SFFFFFFF\n",
      "F\u001b[41mF\u001b[0mFFFFFF\n",
      "FFFHFFFF\n",
      "FFFFFHFF\n",
      "FFFHFFFF\n",
      "FHHFFFHF\n",
      "FHFFHFHF\n",
      "FFFHFFFG\n",
      "  (Down)\n",
      "SFFFFFFF\n",
      "FFFFFFFF\n",
      "F\u001b[41mF\u001b[0mFHFFFF\n",
      "FFFFFHFF\n",
      "FFFHFFFF\n",
      "FHHFFFHF\n",
      "FHFFHFHF\n",
      "FFFHFFFG\n",
      "  (Down)\n",
      "SFFFFFFF\n",
      "FFFFFFFF\n",
      "FFFHFFFF\n",
      "F\u001b[41mF\u001b[0mFFFHFF\n",
      "FFFHFFFF\n",
      "FHHFFFHF\n",
      "FHFFHFHF\n",
      "FFFHFFFG\n",
      "  (Right)\n",
      "SFFFFFFF\n",
      "FFFFFFFF\n",
      "FFFHFFFF\n",
      "FF\u001b[41mF\u001b[0mFFHFF\n",
      "FFFHFFFF\n",
      "FHHFFFHF\n",
      "FHFFHFHF\n",
      "FFFHFFFG\n",
      "  (Up)\n",
      "SFFFFFFF\n",
      "FFFFFFFF\n",
      "FF\u001b[41mF\u001b[0mHFFFF\n",
      "FFFFFHFF\n",
      "FFFHFFFF\n",
      "FHHFFFHF\n",
      "FHFFHFHF\n",
      "FFFHFFFG\n",
      "  (Left)\n",
      "SFFFFFFF\n",
      "FFFFFFFF\n",
      "F\u001b[41mF\u001b[0mFHFFFF\n",
      "FFFFFHFF\n",
      "FFFHFFFF\n",
      "FHHFFFHF\n",
      "FHFFHFHF\n",
      "FFFHFFFG\n",
      "  (Up)\n",
      "SFFFFFFF\n",
      "F\u001b[41mF\u001b[0mFFFFFF\n",
      "FFFHFFFF\n",
      "FFFFFHFF\n",
      "FFFHFFFF\n",
      "FHHFFFHF\n",
      "FHFFHFHF\n",
      "FFFHFFFG\n",
      "  (Right)\n",
      "SFFFFFFF\n",
      "FF\u001b[41mF\u001b[0mFFFFF\n",
      "FFFHFFFF\n",
      "FFFFFHFF\n",
      "FFFHFFFF\n",
      "FHHFFFHF\n",
      "FHFFHFHF\n",
      "FFFHFFFG\n",
      "  (Down)\n",
      "SFFFFFFF\n",
      "FFFFFFFF\n",
      "FF\u001b[41mF\u001b[0mHFFFF\n",
      "FFFFFHFF\n",
      "FFFHFFFF\n",
      "FHHFFFHF\n",
      "FHFFHFHF\n",
      "FFFHFFFG\n",
      "  (Left)\n",
      "SFFFFFFF\n",
      "FFFFFFFF\n",
      "F\u001b[41mF\u001b[0mFHFFFF\n",
      "FFFFFHFF\n",
      "FFFHFFFF\n",
      "FHHFFFHF\n",
      "FHFFHFHF\n",
      "FFFHFFFG\n",
      "Reward: 0.0\n"
     ]
    }
   ],
   "source": [
    "simulate_frozen_lake(env = gym.make('FrozenLake8x8NotSlippery-v0'))"
   ]
  },
  {
   "cell_type": "markdown",
   "metadata": {},
   "source": [
    "Let's view the actions space."
   ]
  },
  {
   "cell_type": "code",
   "execution_count": 35,
   "metadata": {},
   "outputs": [],
   "source": [
    "def view_actions_frozen_lake(env = gym.make('FrozenLakeNotSlippery-v0')):\n",
    "    print(env.action_space)\n",
    "    print(\"Possible actions: [0..%a]\" % (env.action_space.n-1))"
   ]
  },
  {
   "cell_type": "code",
   "execution_count": 36,
   "metadata": {
    "scrolled": false
   },
   "outputs": [
    {
     "name": "stdout",
     "output_type": "stream",
     "text": [
      "Discrete(4)\n",
      "Possible actions: [0..3]\n"
     ]
    }
   ],
   "source": [
    "view_actions_frozen_lake()"
   ]
  },
  {
   "cell_type": "markdown",
   "metadata": {},
   "source": [
    "Let's display the states space."
   ]
  },
  {
   "cell_type": "code",
   "execution_count": 37,
   "metadata": {},
   "outputs": [],
   "source": [
    "def view_states_frozen_lake(env = gym.make('FrozenLakeNotSlippery-v0')):\n",
    "    print(env.observation_space)\n",
    "    print()\n",
    "    env.env.s=random.randint(0,env.observation_space.n-1)\n",
    "    env.render()"
   ]
  },
  {
   "cell_type": "code",
   "execution_count": 38,
   "metadata": {},
   "outputs": [
    {
     "name": "stdout",
     "output_type": "stream",
     "text": [
      "Discrete(16)\n",
      "\n",
      "\n",
      "SFFF\n",
      "FHFH\n",
      "FFFH\n",
      "HFF\u001b[41mG\u001b[0m\n"
     ]
    }
   ],
   "source": [
    "view_states_frozen_lake()"
   ]
  },
  {
   "cell_type": "code",
   "execution_count": 39,
   "metadata": {},
   "outputs": [
    {
     "data": {
      "text/plain": [
       "64"
      ]
     },
     "execution_count": 39,
     "metadata": {},
     "output_type": "execute_result"
    }
   ],
   "source": [
    "8*8"
   ]
  },
  {
   "cell_type": "markdown",
   "metadata": {},
   "source": [
    "The *Value* V(s) is the expected long-term return with discount for state s, as opposed to the short-term reward. The value function represent how good is a state for an agent to be in. It is equal to expected total reward for an agent starting from that state.  \n",
    "\n",
    "The value function depends on the policy by which the agent picks actions to perform. Learning optimal policy requires us to use the Bellman equation.  In a 4x4 environment, the *value iteration* algorithm loops over all 16 states and 4 possible actions to explore rewards of a given action and calculates the maximum possible action/reward and stores it in the vector V[s]. The algorithm iterates until V[s] is not (significantly) improving anymore. \n",
    "\n",
    "The *Optimal policy* P is then to take every time the action to go state with the highest V value. "
   ]
  },
  {
   "cell_type": "markdown",
   "metadata": {},
   "source": [
    "The function below chooses the best possible action at a given state s, the agent needs to calculate the resulting values for every action and choose the maximum possible outcome. "
   ]
  },
  {
   "cell_type": "code",
   "execution_count": 40,
   "metadata": {},
   "outputs": [],
   "source": [
    "# using the Bellman equation, we find the action providing the highest value for the given state s. \n",
    "# V is the list of values of all states\n",
    "def choose_best_action(env, V, s, gamma):\n",
    "    a_best = None\n",
    "    q_best = float('-inf')\n",
    "    nb_actions = env.action_space.n\n",
    "    for a in range (0, nb_actions):\n",
    "        env.env.s = s # go to state s\n",
    "        s_next, r, done, info = env.step(a) #take the action a\n",
    "        q = r + gamma * V[s_next] # compute the value future value after taking action a\n",
    "        if q > q_best:\n",
    "            q_best = q\n",
    "            a_best = a\n",
    "    return a_best"
   ]
  },
  {
   "cell_type": "markdown",
   "metadata": {},
   "source": [
    "The function below implements the value iteration algorithm."
   ]
  },
  {
   "cell_type": "code",
   "execution_count": 41,
   "metadata": {},
   "outputs": [],
   "source": [
    "def compute_value_iteration(env = gym.make('FrozenLakeNotSlippery-v0'), gamma=.9, v_delta_threshold=.01,\n",
    "                            V = None, verbose=True):\n",
    "    env.reset()\n",
    "    nb_actions = env.action_space.n\n",
    "    nb_states = env.observation_space.n\n",
    "    # values vector\n",
    "    if V == None:\n",
    "        V = np.zeros([nb_states])\n",
    "    # policy vector\n",
    "    P = np.zeros([nb_states], dtype=int)\n",
    "    iteration = 0\n",
    "    while True:\n",
    "\n",
    "        v_delta = 0\n",
    "        for s in range (0, nb_states):\n",
    "            v_previous = V[s]\n",
    "            a_best = choose_best_action(env, V, s, gamma) # find an action with the highest future reward\n",
    "            env.env.s = s # go to the state s\n",
    "            s_next, r, done, info = env.step(a_best) #take the best action\n",
    "            V[s] = r + gamma * V[s_next] # update the value of the state\n",
    "            P[s] = a_best # store the best action in the policy vector for the state\n",
    "            v_delta = max(v_delta, np.abs(v_previous - V[s])) # calculate the rate of value improvment for the state\n",
    "        iteration += 1\n",
    "        if v_delta < v_delta_threshold:\n",
    "            if verbose:\n",
    "                print (iteration,' iterations done')\n",
    "            break\n",
    "    return V, P"
   ]
  },
  {
   "cell_type": "markdown",
   "metadata": {},
   "source": [
    "The function below displays a heatmap with the arrows showing the flow of actions providing the best total reward using the optimal policy P."
   ]
  },
  {
   "cell_type": "code",
   "execution_count": 46,
   "metadata": {},
   "outputs": [],
   "source": [
    "def display_value_iteration(P, env = gym.make('FrozenLakeNotSlippery-v0')):\n",
    "    nb_states = env.observation_space.n\n",
    "    visited_states = np.zeros(nb_states).astype(bool)\n",
    "    visited_states[0] = 1\n",
    "    states_labels = np.where(P==0, '<', \n",
    "                              np.where(P==1, '>', \n",
    "                                       np.where(P==2, 'v', \n",
    "                                                np.where(P==3, '^', P)\n",
    "                                               )\n",
    "                                      )\n",
    "                             ) \n",
    "    desc = env.unwrapped.desc.ravel().astype(str)\n",
    "    colors = np.where(desc=='S','y',np.where(desc=='F','b',np.where(desc=='H','r',np.where(desc=='G','g',desc))))\n",
    "    states_labels = np.zeros(nb_states).astype(str)\n",
    "    states_labels[:] = ''\n",
    "    total_reward = 0\n",
    "    s = env.reset()\n",
    "    #env.render()\n",
    "    done = False\n",
    "    while done != True: \n",
    "        best_a = P[s] # select the best next action from the policy\n",
    "        states_labels[s] = '^' if best_a==0 else ('v' if best_a==1 else ('>' if best_a==2 else '<'))   \n",
    "        #print(s, best_a)\n",
    "        s, rew, done, info = env.step(best_a) #take step using selected action\n",
    "        total_reward = total_reward + rew\n",
    "        visited_states[s] = 1 # mark the state as visited\n",
    "        #env.render()\n",
    "    ax = sns.heatmap(P.reshape(int(np.sqrt(nb_states)),int(np.sqrt(nb_states))), \n",
    "                 linewidth=0.5, \n",
    "                 annot=states_labels.reshape(int(np.sqrt(nb_states)),int(np.sqrt(nb_states))), \n",
    "                 cmap=list(colors),\n",
    "                 fmt = '',\n",
    "                 cbar=False)\n",
    "    plt.show()\n",
    "    print(\"Total Reward: \", total_reward)  "
   ]
  },
  {
   "cell_type": "markdown",
   "metadata": {},
   "source": [
    "Let's now perform value iteration on the 4x4 grid and plot the results as a heatmap."
   ]
  },
  {
   "cell_type": "code",
   "execution_count": 47,
   "metadata": {},
   "outputs": [
    {
     "name": "stdout",
     "output_type": "stream",
     "text": [
      "7  iterations done\n"
     ]
    }
   ],
   "source": [
    "V_4, P_4 = compute_value_iteration()"
   ]
  },
  {
   "cell_type": "code",
   "execution_count": 48,
   "metadata": {},
   "outputs": [
    {
     "data": {
      "text/plain": [
       "array([0.59049, 0.6561 , 0.729  , 0.6561 , 0.6561 , 0.     , 0.81   ,\n",
       "       0.     , 0.729  , 0.81   , 0.9    , 0.     , 0.     , 0.9    ,\n",
       "       1.     , 0.     ])"
      ]
     },
     "execution_count": 48,
     "metadata": {},
     "output_type": "execute_result"
    }
   ],
   "source": [
    "V_4"
   ]
  },
  {
   "cell_type": "code",
   "execution_count": 49,
   "metadata": {
    "scrolled": true
   },
   "outputs": [
    {
     "data": {
      "image/png": "[encoded data removed]",
      "text/plain": [
       "<Figure size 432x288 with 1 Axes>"
      ]
     },
     "metadata": {
      "needs_background": "light"
     },
     "output_type": "display_data"
    },
    {
     "name": "stdout",
     "output_type": "stream",
     "text": [
      "Total Reward:  1.0\n"
     ]
    }
   ],
   "source": [
    "display_value_iteration(P_4)"
   ]
  },
  {
   "cell_type": "markdown",
   "metadata": {},
   "source": [
    "Let's now perform value iteration on the 8x8 grid and plot the results as a heatmap."
   ]
  },
  {
   "cell_type": "code",
   "execution_count": 50,
   "metadata": {},
   "outputs": [
    {
     "name": "stdout",
     "output_type": "stream",
     "text": [
      "15  iterations done\n"
     ]
    }
   ],
   "source": [
    "V_8, P_8 = compute_value_iteration(env = gym.make('FrozenLake8x8NotSlippery-v0'))"
   ]
  },
  {
   "cell_type": "code",
   "execution_count": 51,
   "metadata": {},
   "outputs": [
    {
     "data": {
      "text/plain": [
       "array([0.25418658, 0.28242954, 0.3138106 , 0.34867844, 0.38742049,\n",
       "       0.43046721, 0.4782969 , 0.531441  , 0.28242954, 0.3138106 ,\n",
       "       0.34867844, 0.38742049, 0.43046721, 0.4782969 , 0.531441  ,\n",
       "       0.59049   , 0.3138106 , 0.34867844, 0.38742049, 0.        ,\n",
       "       0.4782969 , 0.531441  , 0.59049   , 0.6561    , 0.34867844,\n",
       "       0.38742049, 0.43046721, 0.4782969 , 0.531441  , 0.        ,\n",
       "       0.6561    , 0.729     , 0.3138106 , 0.34867844, 0.38742049,\n",
       "       0.        , 0.59049   , 0.6561    , 0.729     , 0.81      ,\n",
       "       0.28242954, 0.        , 0.        , 0.59049   , 0.6561    ,\n",
       "       0.729     , 0.        , 0.9       , 0.3138106 , 0.        ,\n",
       "       0.4782969 , 0.531441  , 0.        , 0.81      , 0.        ,\n",
       "       1.        , 0.34867844, 0.38742049, 0.43046721, 0.        ,\n",
       "       0.81      , 0.9       , 1.        , 0.        ])"
      ]
     },
     "execution_count": 51,
     "metadata": {},
     "output_type": "execute_result"
    }
   ],
   "source": [
    "V_8"
   ]
  },
  {
   "cell_type": "code",
   "execution_count": 52,
   "metadata": {},
   "outputs": [
    {
     "data": {
      "image/png": "[encoded data removed]",
      "text/plain": [
       "<Figure size 432x288 with 1 Axes>"
      ]
     },
     "metadata": {
      "needs_background": "light"
     },
     "output_type": "display_data"
    },
    {
     "name": "stdout",
     "output_type": "stream",
     "text": [
      "Total Reward:  1.0\n"
     ]
    }
   ],
   "source": [
    "display_value_iteration(P_8, env = gym.make('FrozenLake8x8NotSlippery-v0'))"
   ]
  },
  {
   "cell_type": "markdown",
   "metadata": {},
   "source": [
    "**2. Write code to perform *policy iteration* (starting from a zero policy) and then calculate the optimal policy. Show the same visualizations.**"
   ]
  },
  {
   "cell_type": "markdown",
   "metadata": {},
   "source": [
    "The value-iteration and policy iteration are algorithms for finding the optimal policy when the agent knows sufficient details about the environment model. The Q-learning is a model-free learning that is used when the agent does not know the environment model but has to discover the policy by trial and error making use of its history of interaction with the environment."
   ]
  },
  {
   "cell_type": "markdown",
   "metadata": {},
   "source": [
    "The function below implements the policy iteration algorithm."
   ]
  },
  {
   "cell_type": "code",
   "execution_count": 53,
   "metadata": {},
   "outputs": [],
   "source": [
    "def compute_policy_iteration(env = gym.make('FrozenLakeNotSlippery-v0'), gamma=.9, v_delta_threshold=.01,\n",
    "                            P = None, verbose=True):\n",
    "    env.reset()\n",
    "    nb_actions = env.action_space.n\n",
    "    nb_states = env.observation_space.n\n",
    "    # values vector\n",
    "    V = np.zeros([nb_states])\n",
    "    # policy vector\n",
    "    if P == None:\n",
    "        P = np.random.choice(nb_actions, size=nb_states)\n",
    "        \n",
    "    max_iterations = 200000\n",
    "    iteration = 0\n",
    "    for i in range(max_iterations):\n",
    "        \n",
    "        # policy evaluation\n",
    "        while True:\n",
    "            v_delta = 0\n",
    "            for s in range (0, nb_states):\n",
    "                v_previous = V[s]                \n",
    "                env.env.s = s # go to state s\n",
    "                s_next, r, done, info = env.step(P[s]) #take the action recommended by policy\n",
    "                V[s] = r + gamma * V[s_next] # update value after applying policy\n",
    "                v_delta = max(v_delta, np.abs(v_previous - V[s])) # calculate the rate of value improvment for the state\n",
    "            if v_delta < v_delta_threshold:\n",
    "                break\n",
    "\n",
    "        # policy improvement\n",
    "        policy_stable = True\n",
    "        for s in range (0, nb_states):\n",
    "            a_old = P[s] # ask policy for action to perform\n",
    "            a_best = choose_best_action(env, V, s, gamma) # find an action with the highest future reward    \n",
    "            P[s] = a_best # store the best action in the policy vector for the state\n",
    "            if a_old != a_best:\n",
    "                policy_stable = False\n",
    "        \n",
    "        if policy_stable:\n",
    "            break\n",
    "                \n",
    "        iteration += 1\n",
    "    if verbose:\n",
    "        print (iteration,' iterations done')    \n",
    "    return V, P"
   ]
  },
  {
   "cell_type": "markdown",
   "metadata": {},
   "source": [
    "Let's now perform policy iteration on the 4x4 grid and plot the results as a heatmap."
   ]
  },
  {
   "cell_type": "code",
   "execution_count": 54,
   "metadata": {},
   "outputs": [
    {
     "name": "stdout",
     "output_type": "stream",
     "text": [
      "6  iterations done\n"
     ]
    }
   ],
   "source": [
    "Vp_4, Pp_4 = compute_policy_iteration()"
   ]
  },
  {
   "cell_type": "code",
   "execution_count": 55,
   "metadata": {},
   "outputs": [
    {
     "data": {
      "text/plain": [
       "array([0.59049, 0.6561 , 0.729  , 0.6561 , 0.6561 , 0.     , 0.81   ,\n",
       "       0.     , 0.729  , 0.81   , 0.9    , 0.     , 0.     , 0.9    ,\n",
       "       1.     , 0.     ])"
      ]
     },
     "execution_count": 55,
     "metadata": {},
     "output_type": "execute_result"
    }
   ],
   "source": [
    "Vp_4"
   ]
  },
  {
   "cell_type": "code",
   "execution_count": 56,
   "metadata": {
    "scrolled": true
   },
   "outputs": [
    {
     "data": {
      "image/png": "[encoded data removed]",
      "text/plain": [
       "<Figure size 432x288 with 1 Axes>"
      ]
     },
     "metadata": {
      "needs_background": "light"
     },
     "output_type": "display_data"
    },
    {
     "name": "stdout",
     "output_type": "stream",
     "text": [
      "Total Reward:  1.0\n"
     ]
    }
   ],
   "source": [
    "display_value_iteration(Pp_4)"
   ]
  },
  {
   "cell_type": "markdown",
   "metadata": {},
   "source": [
    "Let's now perform policy iteration on the 8x8 grid and plot the results as a heatmap."
   ]
  },
  {
   "cell_type": "code",
   "execution_count": 57,
   "metadata": {},
   "outputs": [
    {
     "name": "stdout",
     "output_type": "stream",
     "text": [
      "13  iterations done\n"
     ]
    }
   ],
   "source": [
    "Vp_8, Pp_8 = compute_policy_iteration(env = gym.make('FrozenLake8x8NotSlippery-v0'))"
   ]
  },
  {
   "cell_type": "code",
   "execution_count": 58,
   "metadata": {},
   "outputs": [
    {
     "data": {
      "text/plain": [
       "array([0.25418658, 0.28242954, 0.3138106 , 0.34867844, 0.38742049,\n",
       "       0.43046721, 0.4782969 , 0.531441  , 0.28242954, 0.3138106 ,\n",
       "       0.34867844, 0.38742049, 0.43046721, 0.4782969 , 0.531441  ,\n",
       "       0.59049   , 0.3138106 , 0.34867844, 0.38742049, 0.        ,\n",
       "       0.4782969 , 0.531441  , 0.59049   , 0.6561    , 0.34867844,\n",
       "       0.38742049, 0.43046721, 0.4782969 , 0.531441  , 0.        ,\n",
       "       0.6561    , 0.729     , 0.3138106 , 0.34867844, 0.38742049,\n",
       "       0.        , 0.59049   , 0.6561    , 0.729     , 0.81      ,\n",
       "       0.28242954, 0.        , 0.        , 0.59049   , 0.6561    ,\n",
       "       0.729     , 0.        , 0.9       , 0.3138106 , 0.        ,\n",
       "       0.4782969 , 0.531441  , 0.        , 0.81      , 0.        ,\n",
       "       1.        , 0.34867844, 0.38742049, 0.43046721, 0.        ,\n",
       "       0.81      , 0.9       , 1.        , 0.        ])"
      ]
     },
     "execution_count": 58,
     "metadata": {},
     "output_type": "execute_result"
    }
   ],
   "source": [
    "Vp_8"
   ]
  },
  {
   "cell_type": "code",
   "execution_count": 59,
   "metadata": {},
   "outputs": [
    {
     "data": {
      "image/png": "[encoded data removed]",
      "text/plain": [
       "<Figure size 432x288 with 1 Axes>"
      ]
     },
     "metadata": {
      "needs_background": "light"
     },
     "output_type": "display_data"
    },
    {
     "name": "stdout",
     "output_type": "stream",
     "text": [
      "Total Reward:  1.0\n"
     ]
    }
   ],
   "source": [
    "display_value_iteration(Pp_8, env = gym.make('FrozenLake8x8NotSlippery-v0'))"
   ]
  },
  {
   "cell_type": "markdown",
   "metadata": {},
   "source": [
    "**Check if the policy matches in both the cases. Check if the value function matches in both the cases. Justify the results found on this comparison.**"
   ]
  },
  {
   "cell_type": "markdown",
   "metadata": {},
   "source": [
    "Comparison between policies obtained by value iteration (P_4, P_8) and policy iteration (Pp_4, Pp_8) on a 4x4 and 8x8 grid respectively is given below."
   ]
  },
  {
   "cell_type": "code",
   "execution_count": 60,
   "metadata": {},
   "outputs": [
    {
     "data": {
      "text/plain": [
       "array([0, 0, 0, 0, 0, 0, 0, 0, 0, 0, 0, 0, 0, 0, 0, 0])"
      ]
     },
     "execution_count": 60,
     "metadata": {},
     "output_type": "execute_result"
    }
   ],
   "source": [
    "P_4 - Pp_4"
   ]
  },
  {
   "cell_type": "code",
   "execution_count": 61,
   "metadata": {},
   "outputs": [
    {
     "data": {
      "text/plain": [
       "array([0, 0, 0, 0, 0, 0, 0, 0, 0, 0, 0, 0, 0, 0, 0, 0, 0, 0, 0, 0, 0, 0,\n",
       "       0, 0, 0, 0, 0, 0, 0, 0, 0, 0, 0, 0, 0, 0, 0, 0, 0, 0, 0, 0, 0, 0,\n",
       "       0, 0, 0, 0, 0, 0, 0, 0, 0, 0, 0, 0, 0, 0, 0, 0, 0, 0, 0, 0])"
      ]
     },
     "execution_count": 61,
     "metadata": {},
     "output_type": "execute_result"
    }
   ],
   "source": [
    "P_8 - Pp_8"
   ]
  },
  {
   "cell_type": "markdown",
   "metadata": {},
   "source": [
    "Comparison between value function obtained by value iteration (P_4, P_8) and policy iteration (Pp_4, Pp_8) on a 4x4 and 8x8 grid respectively is given below."
   ]
  },
  {
   "cell_type": "code",
   "execution_count": 62,
   "metadata": {},
   "outputs": [
    {
     "data": {
      "text/plain": [
       "array([0., 0., 0., 0., 0., 0., 0., 0., 0., 0., 0., 0., 0., 0., 0., 0.])"
      ]
     },
     "execution_count": 62,
     "metadata": {},
     "output_type": "execute_result"
    }
   ],
   "source": [
    "V_4 - Vp_4"
   ]
  },
  {
   "cell_type": "code",
   "execution_count": 63,
   "metadata": {},
   "outputs": [
    {
     "data": {
      "text/plain": [
       "array([0., 0., 0., 0., 0., 0., 0., 0., 0., 0., 0., 0., 0., 0., 0., 0., 0.,\n",
       "       0., 0., 0., 0., 0., 0., 0., 0., 0., 0., 0., 0., 0., 0., 0., 0., 0.,\n",
       "       0., 0., 0., 0., 0., 0., 0., 0., 0., 0., 0., 0., 0., 0., 0., 0., 0.,\n",
       "       0., 0., 0., 0., 0., 0., 0., 0., 0., 0., 0., 0., 0.])"
      ]
     },
     "execution_count": 63,
     "metadata": {},
     "output_type": "execute_result"
    }
   ],
   "source": [
    "V_8 - Vp_8"
   ]
  },
  {
   "cell_type": "markdown",
   "metadata": {},
   "source": [
    "As we can observe, both algorithms produce the same result. Policy iteration converges in surprisingly fewer iterations. While value-iteration algorithm keeps improving the value function at each iteration until the value-function converges, the policy improvement theorem assures us that the policies found by the policy iteration algorithm are better than the original random policy. \n",
    "\n",
    "Both approaches achieve the same goal, policy-iteration being more computationally efficient."
   ]
  },
  {
   "cell_type": "markdown",
   "metadata": {},
   "source": [
    "### Can we try two or three different $\\gamma$ values and also discuss what the impact of $\\gamma$ is on the training."
   ]
  },
  {
   "cell_type": "code",
   "execution_count": 64,
   "metadata": {},
   "outputs": [],
   "source": [
    "def gammas_training(method='value_iteration', \n",
    "                    gammas = np.arange(0, 1, 0.1),\n",
    "                    env=gym.make('FrozenLakeNotSlippery-v0')):\n",
    "    df = pd.DataFrame(columns=['gamma','state','value'])\n",
    "    for gamma in gammas:\n",
    "        if method == 'value_iteration':\n",
    "            V, P = compute_value_iteration(env=env, gamma=gamma, verbose=False)\n",
    "        else:\n",
    "            V, P = compute_policy_iteration(env=env, gamma=gamma, verbose=False)\n",
    "        df = df.append(pd.DataFrame({'gamma':[gamma for i in range(0,env.observation_space.n)],\n",
    "                                'state':[i for i in range(0,env.observation_space.n)],\n",
    "                                'value': V}))\n",
    "    df.state=df.state.astype(int)\n",
    "    return df"
   ]
  },
  {
   "cell_type": "code",
   "execution_count": 65,
   "metadata": {},
   "outputs": [
    {
     "data": {
      "image/png": "[encoded data removed]",
      "text/plain": [
       "<Figure size 1440x720 with 4 Axes>"
      ]
     },
     "metadata": {
      "needs_background": "light"
     },
     "output_type": "display_data"
    }
   ],
   "source": [
    "fig, ax = plt.subplots(2,2, figsize=(20,10))\n",
    "\n",
    "df_4_v = gammas_training(method='value_iteration', env=gym.make('FrozenLakeNotSlippery-v0'))\n",
    "sns.lineplot(data=df_4_v, x='gamma', y='value', hue='state', ax=ax[0][0])\n",
    "ax[0][0].set_title('4x4 - VALUE ITERATION - Values per gamma')\n",
    "\n",
    "df_4_i = gammas_training(method='policy_iteration', env=gym.make('FrozenLakeNotSlippery-v0'))\n",
    "sns.lineplot(data=df_4_i, x='gamma', y='value', hue='state', ax=ax[0][1])\n",
    "ax[0][1].set_title('4x4 - POLICY ITERATION - Values per gamma')\n",
    "\n",
    "df_8_v = gammas_training(method='value_iteration', env=gym.make('FrozenLake8x8NotSlippery-v0'))\n",
    "sns.lineplot(data=df_8_v, x='gamma', y='value', hue='state', ax=ax[1][0])\n",
    "ax[1][0].set_title('8x8 - VALUE ITERATION - Values per gamma')\n",
    "\n",
    "df_8_i = gammas_training(method='policy_iteration', env=gym.make('FrozenLake8x8NotSlippery-v0'))\n",
    "sns.lineplot(data=df_8_i, x='gamma', y='value', hue='state', ax=ax[1][1])\n",
    "ax[1][1].set_title('8x8 - POLICY ITERATION - Values per gamma');"
   ]
  },
  {
   "cell_type": "markdown",
   "metadata": {},
   "source": [
    "The plots show how values increases as gamma increases.\n",
    "\n",
    "Different values of gamma (0-10) produce different policies. Lower gamma values will put more weight on short-term rewards, whereas higher gamma values will put more weight towards long-term gains. The best gamma depends on the domain. In the frozen lake context, it does not make sense to look for short term gains (e.g. negative reward caused by falling in the hole is actually less valuable than the same penalty received later, after a long way without falling). We rather want to look as far ahead as we can.\n"
   ]
  },
  {
   "cell_type": "markdown",
   "metadata": {},
   "source": [
    "**Q-Learning and SARVA deal with the case where the agent cannot (offline) plan its actions, because it lacks knowledge about the environment before interacting with it. It has to learn the transition matrix as well.**"
   ]
  },
  {
   "cell_type": "code",
   "execution_count": null,
   "metadata": {},
   "outputs": [],
   "source": []
  }
 ],
 "metadata": {
  "kernelspec": {
   "display_name": "Python 3",
   "language": "python",
   "name": "python3"
  },
  "language_info": {
   "codemirror_mode": {
    "name": "ipython",
    "version": 3
   },
   "file_extension": ".py",
   "mimetype": "text/x-python",
   "name": "python",
   "nbconvert_exporter": "python",
   "pygments_lexer": "ipython3",
   "version": "3.6.7"
  }
 },
 "nbformat": 4,
 "nbformat_minor": 2
}
